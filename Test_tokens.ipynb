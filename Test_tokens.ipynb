{
  "nbformat": 4,
  "nbformat_minor": 0,
  "metadata": {
    "colab": {
      "provenance": [],
      "authorship_tag": "ABX9TyPnzefpvxQEANpS84Ba0JPS"
    },
    "kernelspec": {
      "name": "python3",
      "display_name": "Python 3"
    },
    "language_info": {
      "name": "python"
    },
    "widgets": {
      "application/vnd.jupyter.widget-state+json": {
        "89e696c9374a467fbcb6166aa6ee3d41": {
          "model_module": "@jupyter-widgets/controls",
          "model_name": "HBoxModel",
          "model_module_version": "1.5.0",
          "state": {
            "_dom_classes": [],
            "_model_module": "@jupyter-widgets/controls",
            "_model_module_version": "1.5.0",
            "_model_name": "HBoxModel",
            "_view_count": null,
            "_view_module": "@jupyter-widgets/controls",
            "_view_module_version": "1.5.0",
            "_view_name": "HBoxView",
            "box_style": "",
            "children": [
              "IPY_MODEL_caf1c65dc8f8422e85cd529dfeb499b4",
              "IPY_MODEL_171688acc3ca45398b567f8d2fe77b55",
              "IPY_MODEL_c9645c6d00d84afba76656576884746d"
            ],
            "layout": "IPY_MODEL_191a46dadbbe4fca86460ae84e13b25e"
          }
        },
        "caf1c65dc8f8422e85cd529dfeb499b4": {
          "model_module": "@jupyter-widgets/controls",
          "model_name": "HTMLModel",
          "model_module_version": "1.5.0",
          "state": {
            "_dom_classes": [],
            "_model_module": "@jupyter-widgets/controls",
            "_model_module_version": "1.5.0",
            "_model_name": "HTMLModel",
            "_view_count": null,
            "_view_module": "@jupyter-widgets/controls",
            "_view_module_version": "1.5.0",
            "_view_name": "HTMLView",
            "description": "",
            "description_tooltip": null,
            "layout": "IPY_MODEL_199e5f5db69941a084516968e1f1dc89",
            "placeholder": "​",
            "style": "IPY_MODEL_75bae1f02d5a48318f27be7fc1799370",
            "value": "tokenizer_config.json: 100%"
          }
        },
        "171688acc3ca45398b567f8d2fe77b55": {
          "model_module": "@jupyter-widgets/controls",
          "model_name": "FloatProgressModel",
          "model_module_version": "1.5.0",
          "state": {
            "_dom_classes": [],
            "_model_module": "@jupyter-widgets/controls",
            "_model_module_version": "1.5.0",
            "_model_name": "FloatProgressModel",
            "_view_count": null,
            "_view_module": "@jupyter-widgets/controls",
            "_view_module_version": "1.5.0",
            "_view_name": "ProgressView",
            "bar_style": "success",
            "description": "",
            "description_tooltip": null,
            "layout": "IPY_MODEL_8d0ac4b39f664a04b59abb6ecbaefa38",
            "max": 2324,
            "min": 0,
            "orientation": "horizontal",
            "style": "IPY_MODEL_4a66430e7cf44d80b6c19a44172ad64a",
            "value": 2324
          }
        },
        "c9645c6d00d84afba76656576884746d": {
          "model_module": "@jupyter-widgets/controls",
          "model_name": "HTMLModel",
          "model_module_version": "1.5.0",
          "state": {
            "_dom_classes": [],
            "_model_module": "@jupyter-widgets/controls",
            "_model_module_version": "1.5.0",
            "_model_name": "HTMLModel",
            "_view_count": null,
            "_view_module": "@jupyter-widgets/controls",
            "_view_module_version": "1.5.0",
            "_view_name": "HTMLView",
            "description": "",
            "description_tooltip": null,
            "layout": "IPY_MODEL_0a733a9c8eac481f82f156c2700ab7db",
            "placeholder": "​",
            "style": "IPY_MODEL_76097b035dea489c9ad72b963a82572a",
            "value": " 2.32k/2.32k [00:00&lt;00:00, 102kB/s]"
          }
        },
        "191a46dadbbe4fca86460ae84e13b25e": {
          "model_module": "@jupyter-widgets/base",
          "model_name": "LayoutModel",
          "model_module_version": "1.2.0",
          "state": {
            "_model_module": "@jupyter-widgets/base",
            "_model_module_version": "1.2.0",
            "_model_name": "LayoutModel",
            "_view_count": null,
            "_view_module": "@jupyter-widgets/base",
            "_view_module_version": "1.2.0",
            "_view_name": "LayoutView",
            "align_content": null,
            "align_items": null,
            "align_self": null,
            "border": null,
            "bottom": null,
            "display": null,
            "flex": null,
            "flex_flow": null,
            "grid_area": null,
            "grid_auto_columns": null,
            "grid_auto_flow": null,
            "grid_auto_rows": null,
            "grid_column": null,
            "grid_gap": null,
            "grid_row": null,
            "grid_template_areas": null,
            "grid_template_columns": null,
            "grid_template_rows": null,
            "height": null,
            "justify_content": null,
            "justify_items": null,
            "left": null,
            "margin": null,
            "max_height": null,
            "max_width": null,
            "min_height": null,
            "min_width": null,
            "object_fit": null,
            "object_position": null,
            "order": null,
            "overflow": null,
            "overflow_x": null,
            "overflow_y": null,
            "padding": null,
            "right": null,
            "top": null,
            "visibility": null,
            "width": null
          }
        },
        "199e5f5db69941a084516968e1f1dc89": {
          "model_module": "@jupyter-widgets/base",
          "model_name": "LayoutModel",
          "model_module_version": "1.2.0",
          "state": {
            "_model_module": "@jupyter-widgets/base",
            "_model_module_version": "1.2.0",
            "_model_name": "LayoutModel",
            "_view_count": null,
            "_view_module": "@jupyter-widgets/base",
            "_view_module_version": "1.2.0",
            "_view_name": "LayoutView",
            "align_content": null,
            "align_items": null,
            "align_self": null,
            "border": null,
            "bottom": null,
            "display": null,
            "flex": null,
            "flex_flow": null,
            "grid_area": null,
            "grid_auto_columns": null,
            "grid_auto_flow": null,
            "grid_auto_rows": null,
            "grid_column": null,
            "grid_gap": null,
            "grid_row": null,
            "grid_template_areas": null,
            "grid_template_columns": null,
            "grid_template_rows": null,
            "height": null,
            "justify_content": null,
            "justify_items": null,
            "left": null,
            "margin": null,
            "max_height": null,
            "max_width": null,
            "min_height": null,
            "min_width": null,
            "object_fit": null,
            "object_position": null,
            "order": null,
            "overflow": null,
            "overflow_x": null,
            "overflow_y": null,
            "padding": null,
            "right": null,
            "top": null,
            "visibility": null,
            "width": null
          }
        },
        "75bae1f02d5a48318f27be7fc1799370": {
          "model_module": "@jupyter-widgets/controls",
          "model_name": "DescriptionStyleModel",
          "model_module_version": "1.5.0",
          "state": {
            "_model_module": "@jupyter-widgets/controls",
            "_model_module_version": "1.5.0",
            "_model_name": "DescriptionStyleModel",
            "_view_count": null,
            "_view_module": "@jupyter-widgets/base",
            "_view_module_version": "1.2.0",
            "_view_name": "StyleView",
            "description_width": ""
          }
        },
        "8d0ac4b39f664a04b59abb6ecbaefa38": {
          "model_module": "@jupyter-widgets/base",
          "model_name": "LayoutModel",
          "model_module_version": "1.2.0",
          "state": {
            "_model_module": "@jupyter-widgets/base",
            "_model_module_version": "1.2.0",
            "_model_name": "LayoutModel",
            "_view_count": null,
            "_view_module": "@jupyter-widgets/base",
            "_view_module_version": "1.2.0",
            "_view_name": "LayoutView",
            "align_content": null,
            "align_items": null,
            "align_self": null,
            "border": null,
            "bottom": null,
            "display": null,
            "flex": null,
            "flex_flow": null,
            "grid_area": null,
            "grid_auto_columns": null,
            "grid_auto_flow": null,
            "grid_auto_rows": null,
            "grid_column": null,
            "grid_gap": null,
            "grid_row": null,
            "grid_template_areas": null,
            "grid_template_columns": null,
            "grid_template_rows": null,
            "height": null,
            "justify_content": null,
            "justify_items": null,
            "left": null,
            "margin": null,
            "max_height": null,
            "max_width": null,
            "min_height": null,
            "min_width": null,
            "object_fit": null,
            "object_position": null,
            "order": null,
            "overflow": null,
            "overflow_x": null,
            "overflow_y": null,
            "padding": null,
            "right": null,
            "top": null,
            "visibility": null,
            "width": null
          }
        },
        "4a66430e7cf44d80b6c19a44172ad64a": {
          "model_module": "@jupyter-widgets/controls",
          "model_name": "ProgressStyleModel",
          "model_module_version": "1.5.0",
          "state": {
            "_model_module": "@jupyter-widgets/controls",
            "_model_module_version": "1.5.0",
            "_model_name": "ProgressStyleModel",
            "_view_count": null,
            "_view_module": "@jupyter-widgets/base",
            "_view_module_version": "1.2.0",
            "_view_name": "StyleView",
            "bar_color": null,
            "description_width": ""
          }
        },
        "0a733a9c8eac481f82f156c2700ab7db": {
          "model_module": "@jupyter-widgets/base",
          "model_name": "LayoutModel",
          "model_module_version": "1.2.0",
          "state": {
            "_model_module": "@jupyter-widgets/base",
            "_model_module_version": "1.2.0",
            "_model_name": "LayoutModel",
            "_view_count": null,
            "_view_module": "@jupyter-widgets/base",
            "_view_module_version": "1.2.0",
            "_view_name": "LayoutView",
            "align_content": null,
            "align_items": null,
            "align_self": null,
            "border": null,
            "bottom": null,
            "display": null,
            "flex": null,
            "flex_flow": null,
            "grid_area": null,
            "grid_auto_columns": null,
            "grid_auto_flow": null,
            "grid_auto_rows": null,
            "grid_column": null,
            "grid_gap": null,
            "grid_row": null,
            "grid_template_areas": null,
            "grid_template_columns": null,
            "grid_template_rows": null,
            "height": null,
            "justify_content": null,
            "justify_items": null,
            "left": null,
            "margin": null,
            "max_height": null,
            "max_width": null,
            "min_height": null,
            "min_width": null,
            "object_fit": null,
            "object_position": null,
            "order": null,
            "overflow": null,
            "overflow_x": null,
            "overflow_y": null,
            "padding": null,
            "right": null,
            "top": null,
            "visibility": null,
            "width": null
          }
        },
        "76097b035dea489c9ad72b963a82572a": {
          "model_module": "@jupyter-widgets/controls",
          "model_name": "DescriptionStyleModel",
          "model_module_version": "1.5.0",
          "state": {
            "_model_module": "@jupyter-widgets/controls",
            "_model_module_version": "1.5.0",
            "_model_name": "DescriptionStyleModel",
            "_view_count": null,
            "_view_module": "@jupyter-widgets/base",
            "_view_module_version": "1.2.0",
            "_view_name": "StyleView",
            "description_width": ""
          }
        },
        "aab9f9d920dc4aa288f8e2c8a12c91f7": {
          "model_module": "@jupyter-widgets/controls",
          "model_name": "HBoxModel",
          "model_module_version": "1.5.0",
          "state": {
            "_dom_classes": [],
            "_model_module": "@jupyter-widgets/controls",
            "_model_module_version": "1.5.0",
            "_model_name": "HBoxModel",
            "_view_count": null,
            "_view_module": "@jupyter-widgets/controls",
            "_view_module_version": "1.5.0",
            "_view_name": "HBoxView",
            "box_style": "",
            "children": [
              "IPY_MODEL_f2425eea5ad5440dae916e08d4f623cc",
              "IPY_MODEL_5d759b82cf3846bdbd085f07a907efd4",
              "IPY_MODEL_b4217f03db9541f89c3d9df5dc6acd96"
            ],
            "layout": "IPY_MODEL_adfdc0495f154ce4ad0d0dac591b5fa0"
          }
        },
        "f2425eea5ad5440dae916e08d4f623cc": {
          "model_module": "@jupyter-widgets/controls",
          "model_name": "HTMLModel",
          "model_module_version": "1.5.0",
          "state": {
            "_dom_classes": [],
            "_model_module": "@jupyter-widgets/controls",
            "_model_module_version": "1.5.0",
            "_model_name": "HTMLModel",
            "_view_count": null,
            "_view_module": "@jupyter-widgets/controls",
            "_view_module_version": "1.5.0",
            "_view_name": "HTMLView",
            "description": "",
            "description_tooltip": null,
            "layout": "IPY_MODEL_7e6e2ab7937b4ba08f6f9cf8532a4bd9",
            "placeholder": "​",
            "style": "IPY_MODEL_5db92728616f437c9c844c315a18d9dc",
            "value": "spiece.model: 100%"
          }
        },
        "5d759b82cf3846bdbd085f07a907efd4": {
          "model_module": "@jupyter-widgets/controls",
          "model_name": "FloatProgressModel",
          "model_module_version": "1.5.0",
          "state": {
            "_dom_classes": [],
            "_model_module": "@jupyter-widgets/controls",
            "_model_module_version": "1.5.0",
            "_model_name": "FloatProgressModel",
            "_view_count": null,
            "_view_module": "@jupyter-widgets/controls",
            "_view_module_version": "1.5.0",
            "_view_name": "ProgressView",
            "bar_style": "success",
            "description": "",
            "description_tooltip": null,
            "layout": "IPY_MODEL_fa42480746a041ea95186d167386618e",
            "max": 791656,
            "min": 0,
            "orientation": "horizontal",
            "style": "IPY_MODEL_c793e49153744aff8adf1f0898c9cc02",
            "value": 791656
          }
        },
        "b4217f03db9541f89c3d9df5dc6acd96": {
          "model_module": "@jupyter-widgets/controls",
          "model_name": "HTMLModel",
          "model_module_version": "1.5.0",
          "state": {
            "_dom_classes": [],
            "_model_module": "@jupyter-widgets/controls",
            "_model_module_version": "1.5.0",
            "_model_name": "HTMLModel",
            "_view_count": null,
            "_view_module": "@jupyter-widgets/controls",
            "_view_module_version": "1.5.0",
            "_view_name": "HTMLView",
            "description": "",
            "description_tooltip": null,
            "layout": "IPY_MODEL_e80531c7fd204f3ab283c4fec0543d08",
            "placeholder": "​",
            "style": "IPY_MODEL_232873230b6c45f9af1a33adc13dc4e3",
            "value": " 792k/792k [00:00&lt;00:00, 3.90MB/s]"
          }
        },
        "adfdc0495f154ce4ad0d0dac591b5fa0": {
          "model_module": "@jupyter-widgets/base",
          "model_name": "LayoutModel",
          "model_module_version": "1.2.0",
          "state": {
            "_model_module": "@jupyter-widgets/base",
            "_model_module_version": "1.2.0",
            "_model_name": "LayoutModel",
            "_view_count": null,
            "_view_module": "@jupyter-widgets/base",
            "_view_module_version": "1.2.0",
            "_view_name": "LayoutView",
            "align_content": null,
            "align_items": null,
            "align_self": null,
            "border": null,
            "bottom": null,
            "display": null,
            "flex": null,
            "flex_flow": null,
            "grid_area": null,
            "grid_auto_columns": null,
            "grid_auto_flow": null,
            "grid_auto_rows": null,
            "grid_column": null,
            "grid_gap": null,
            "grid_row": null,
            "grid_template_areas": null,
            "grid_template_columns": null,
            "grid_template_rows": null,
            "height": null,
            "justify_content": null,
            "justify_items": null,
            "left": null,
            "margin": null,
            "max_height": null,
            "max_width": null,
            "min_height": null,
            "min_width": null,
            "object_fit": null,
            "object_position": null,
            "order": null,
            "overflow": null,
            "overflow_x": null,
            "overflow_y": null,
            "padding": null,
            "right": null,
            "top": null,
            "visibility": null,
            "width": null
          }
        },
        "7e6e2ab7937b4ba08f6f9cf8532a4bd9": {
          "model_module": "@jupyter-widgets/base",
          "model_name": "LayoutModel",
          "model_module_version": "1.2.0",
          "state": {
            "_model_module": "@jupyter-widgets/base",
            "_model_module_version": "1.2.0",
            "_model_name": "LayoutModel",
            "_view_count": null,
            "_view_module": "@jupyter-widgets/base",
            "_view_module_version": "1.2.0",
            "_view_name": "LayoutView",
            "align_content": null,
            "align_items": null,
            "align_self": null,
            "border": null,
            "bottom": null,
            "display": null,
            "flex": null,
            "flex_flow": null,
            "grid_area": null,
            "grid_auto_columns": null,
            "grid_auto_flow": null,
            "grid_auto_rows": null,
            "grid_column": null,
            "grid_gap": null,
            "grid_row": null,
            "grid_template_areas": null,
            "grid_template_columns": null,
            "grid_template_rows": null,
            "height": null,
            "justify_content": null,
            "justify_items": null,
            "left": null,
            "margin": null,
            "max_height": null,
            "max_width": null,
            "min_height": null,
            "min_width": null,
            "object_fit": null,
            "object_position": null,
            "order": null,
            "overflow": null,
            "overflow_x": null,
            "overflow_y": null,
            "padding": null,
            "right": null,
            "top": null,
            "visibility": null,
            "width": null
          }
        },
        "5db92728616f437c9c844c315a18d9dc": {
          "model_module": "@jupyter-widgets/controls",
          "model_name": "DescriptionStyleModel",
          "model_module_version": "1.5.0",
          "state": {
            "_model_module": "@jupyter-widgets/controls",
            "_model_module_version": "1.5.0",
            "_model_name": "DescriptionStyleModel",
            "_view_count": null,
            "_view_module": "@jupyter-widgets/base",
            "_view_module_version": "1.2.0",
            "_view_name": "StyleView",
            "description_width": ""
          }
        },
        "fa42480746a041ea95186d167386618e": {
          "model_module": "@jupyter-widgets/base",
          "model_name": "LayoutModel",
          "model_module_version": "1.2.0",
          "state": {
            "_model_module": "@jupyter-widgets/base",
            "_model_module_version": "1.2.0",
            "_model_name": "LayoutModel",
            "_view_count": null,
            "_view_module": "@jupyter-widgets/base",
            "_view_module_version": "1.2.0",
            "_view_name": "LayoutView",
            "align_content": null,
            "align_items": null,
            "align_self": null,
            "border": null,
            "bottom": null,
            "display": null,
            "flex": null,
            "flex_flow": null,
            "grid_area": null,
            "grid_auto_columns": null,
            "grid_auto_flow": null,
            "grid_auto_rows": null,
            "grid_column": null,
            "grid_gap": null,
            "grid_row": null,
            "grid_template_areas": null,
            "grid_template_columns": null,
            "grid_template_rows": null,
            "height": null,
            "justify_content": null,
            "justify_items": null,
            "left": null,
            "margin": null,
            "max_height": null,
            "max_width": null,
            "min_height": null,
            "min_width": null,
            "object_fit": null,
            "object_position": null,
            "order": null,
            "overflow": null,
            "overflow_x": null,
            "overflow_y": null,
            "padding": null,
            "right": null,
            "top": null,
            "visibility": null,
            "width": null
          }
        },
        "c793e49153744aff8adf1f0898c9cc02": {
          "model_module": "@jupyter-widgets/controls",
          "model_name": "ProgressStyleModel",
          "model_module_version": "1.5.0",
          "state": {
            "_model_module": "@jupyter-widgets/controls",
            "_model_module_version": "1.5.0",
            "_model_name": "ProgressStyleModel",
            "_view_count": null,
            "_view_module": "@jupyter-widgets/base",
            "_view_module_version": "1.2.0",
            "_view_name": "StyleView",
            "bar_color": null,
            "description_width": ""
          }
        },
        "e80531c7fd204f3ab283c4fec0543d08": {
          "model_module": "@jupyter-widgets/base",
          "model_name": "LayoutModel",
          "model_module_version": "1.2.0",
          "state": {
            "_model_module": "@jupyter-widgets/base",
            "_model_module_version": "1.2.0",
            "_model_name": "LayoutModel",
            "_view_count": null,
            "_view_module": "@jupyter-widgets/base",
            "_view_module_version": "1.2.0",
            "_view_name": "LayoutView",
            "align_content": null,
            "align_items": null,
            "align_self": null,
            "border": null,
            "bottom": null,
            "display": null,
            "flex": null,
            "flex_flow": null,
            "grid_area": null,
            "grid_auto_columns": null,
            "grid_auto_flow": null,
            "grid_auto_rows": null,
            "grid_column": null,
            "grid_gap": null,
            "grid_row": null,
            "grid_template_areas": null,
            "grid_template_columns": null,
            "grid_template_rows": null,
            "height": null,
            "justify_content": null,
            "justify_items": null,
            "left": null,
            "margin": null,
            "max_height": null,
            "max_width": null,
            "min_height": null,
            "min_width": null,
            "object_fit": null,
            "object_position": null,
            "order": null,
            "overflow": null,
            "overflow_x": null,
            "overflow_y": null,
            "padding": null,
            "right": null,
            "top": null,
            "visibility": null,
            "width": null
          }
        },
        "232873230b6c45f9af1a33adc13dc4e3": {
          "model_module": "@jupyter-widgets/controls",
          "model_name": "DescriptionStyleModel",
          "model_module_version": "1.5.0",
          "state": {
            "_model_module": "@jupyter-widgets/controls",
            "_model_module_version": "1.5.0",
            "_model_name": "DescriptionStyleModel",
            "_view_count": null,
            "_view_module": "@jupyter-widgets/base",
            "_view_module_version": "1.2.0",
            "_view_name": "StyleView",
            "description_width": ""
          }
        },
        "0e441784527f47998950e6a6c93b972c": {
          "model_module": "@jupyter-widgets/controls",
          "model_name": "HBoxModel",
          "model_module_version": "1.5.0",
          "state": {
            "_dom_classes": [],
            "_model_module": "@jupyter-widgets/controls",
            "_model_module_version": "1.5.0",
            "_model_name": "HBoxModel",
            "_view_count": null,
            "_view_module": "@jupyter-widgets/controls",
            "_view_module_version": "1.5.0",
            "_view_name": "HBoxView",
            "box_style": "",
            "children": [
              "IPY_MODEL_f13e3f351f3241efb82f4e7e99e44ea6",
              "IPY_MODEL_35ea7d507195412194db5728cef5bfa0",
              "IPY_MODEL_377357661feb451d9a7eab6971b8b1f5"
            ],
            "layout": "IPY_MODEL_23413f108e154b2f9d472d2a9c8e92ee"
          }
        },
        "f13e3f351f3241efb82f4e7e99e44ea6": {
          "model_module": "@jupyter-widgets/controls",
          "model_name": "HTMLModel",
          "model_module_version": "1.5.0",
          "state": {
            "_dom_classes": [],
            "_model_module": "@jupyter-widgets/controls",
            "_model_module_version": "1.5.0",
            "_model_name": "HTMLModel",
            "_view_count": null,
            "_view_module": "@jupyter-widgets/controls",
            "_view_module_version": "1.5.0",
            "_view_name": "HTMLView",
            "description": "",
            "description_tooltip": null,
            "layout": "IPY_MODEL_f678ddc771ab458c894af3f683da5610",
            "placeholder": "​",
            "style": "IPY_MODEL_acb78b1c9e774cc99ccf2af50935858c",
            "value": "tokenizer.json: 100%"
          }
        },
        "35ea7d507195412194db5728cef5bfa0": {
          "model_module": "@jupyter-widgets/controls",
          "model_name": "FloatProgressModel",
          "model_module_version": "1.5.0",
          "state": {
            "_dom_classes": [],
            "_model_module": "@jupyter-widgets/controls",
            "_model_module_version": "1.5.0",
            "_model_name": "FloatProgressModel",
            "_view_count": null,
            "_view_module": "@jupyter-widgets/controls",
            "_view_module_version": "1.5.0",
            "_view_name": "ProgressView",
            "bar_style": "success",
            "description": "",
            "description_tooltip": null,
            "layout": "IPY_MODEL_1726ca083e61415fb8f7b2d012c338e8",
            "max": 1389353,
            "min": 0,
            "orientation": "horizontal",
            "style": "IPY_MODEL_1189b6626bf24a39ae7ef2f1cd7c1695",
            "value": 1389353
          }
        },
        "377357661feb451d9a7eab6971b8b1f5": {
          "model_module": "@jupyter-widgets/controls",
          "model_name": "HTMLModel",
          "model_module_version": "1.5.0",
          "state": {
            "_dom_classes": [],
            "_model_module": "@jupyter-widgets/controls",
            "_model_module_version": "1.5.0",
            "_model_name": "HTMLModel",
            "_view_count": null,
            "_view_module": "@jupyter-widgets/controls",
            "_view_module_version": "1.5.0",
            "_view_name": "HTMLView",
            "description": "",
            "description_tooltip": null,
            "layout": "IPY_MODEL_ffd6fe564ed74b33af9ac2f6ee05f379",
            "placeholder": "​",
            "style": "IPY_MODEL_90dd201c38024ef48839ad1be8b831fe",
            "value": " 1.39M/1.39M [00:00&lt;00:00, 5.05MB/s]"
          }
        },
        "23413f108e154b2f9d472d2a9c8e92ee": {
          "model_module": "@jupyter-widgets/base",
          "model_name": "LayoutModel",
          "model_module_version": "1.2.0",
          "state": {
            "_model_module": "@jupyter-widgets/base",
            "_model_module_version": "1.2.0",
            "_model_name": "LayoutModel",
            "_view_count": null,
            "_view_module": "@jupyter-widgets/base",
            "_view_module_version": "1.2.0",
            "_view_name": "LayoutView",
            "align_content": null,
            "align_items": null,
            "align_self": null,
            "border": null,
            "bottom": null,
            "display": null,
            "flex": null,
            "flex_flow": null,
            "grid_area": null,
            "grid_auto_columns": null,
            "grid_auto_flow": null,
            "grid_auto_rows": null,
            "grid_column": null,
            "grid_gap": null,
            "grid_row": null,
            "grid_template_areas": null,
            "grid_template_columns": null,
            "grid_template_rows": null,
            "height": null,
            "justify_content": null,
            "justify_items": null,
            "left": null,
            "margin": null,
            "max_height": null,
            "max_width": null,
            "min_height": null,
            "min_width": null,
            "object_fit": null,
            "object_position": null,
            "order": null,
            "overflow": null,
            "overflow_x": null,
            "overflow_y": null,
            "padding": null,
            "right": null,
            "top": null,
            "visibility": null,
            "width": null
          }
        },
        "f678ddc771ab458c894af3f683da5610": {
          "model_module": "@jupyter-widgets/base",
          "model_name": "LayoutModel",
          "model_module_version": "1.2.0",
          "state": {
            "_model_module": "@jupyter-widgets/base",
            "_model_module_version": "1.2.0",
            "_model_name": "LayoutModel",
            "_view_count": null,
            "_view_module": "@jupyter-widgets/base",
            "_view_module_version": "1.2.0",
            "_view_name": "LayoutView",
            "align_content": null,
            "align_items": null,
            "align_self": null,
            "border": null,
            "bottom": null,
            "display": null,
            "flex": null,
            "flex_flow": null,
            "grid_area": null,
            "grid_auto_columns": null,
            "grid_auto_flow": null,
            "grid_auto_rows": null,
            "grid_column": null,
            "grid_gap": null,
            "grid_row": null,
            "grid_template_areas": null,
            "grid_template_columns": null,
            "grid_template_rows": null,
            "height": null,
            "justify_content": null,
            "justify_items": null,
            "left": null,
            "margin": null,
            "max_height": null,
            "max_width": null,
            "min_height": null,
            "min_width": null,
            "object_fit": null,
            "object_position": null,
            "order": null,
            "overflow": null,
            "overflow_x": null,
            "overflow_y": null,
            "padding": null,
            "right": null,
            "top": null,
            "visibility": null,
            "width": null
          }
        },
        "acb78b1c9e774cc99ccf2af50935858c": {
          "model_module": "@jupyter-widgets/controls",
          "model_name": "DescriptionStyleModel",
          "model_module_version": "1.5.0",
          "state": {
            "_model_module": "@jupyter-widgets/controls",
            "_model_module_version": "1.5.0",
            "_model_name": "DescriptionStyleModel",
            "_view_count": null,
            "_view_module": "@jupyter-widgets/base",
            "_view_module_version": "1.2.0",
            "_view_name": "StyleView",
            "description_width": ""
          }
        },
        "1726ca083e61415fb8f7b2d012c338e8": {
          "model_module": "@jupyter-widgets/base",
          "model_name": "LayoutModel",
          "model_module_version": "1.2.0",
          "state": {
            "_model_module": "@jupyter-widgets/base",
            "_model_module_version": "1.2.0",
            "_model_name": "LayoutModel",
            "_view_count": null,
            "_view_module": "@jupyter-widgets/base",
            "_view_module_version": "1.2.0",
            "_view_name": "LayoutView",
            "align_content": null,
            "align_items": null,
            "align_self": null,
            "border": null,
            "bottom": null,
            "display": null,
            "flex": null,
            "flex_flow": null,
            "grid_area": null,
            "grid_auto_columns": null,
            "grid_auto_flow": null,
            "grid_auto_rows": null,
            "grid_column": null,
            "grid_gap": null,
            "grid_row": null,
            "grid_template_areas": null,
            "grid_template_columns": null,
            "grid_template_rows": null,
            "height": null,
            "justify_content": null,
            "justify_items": null,
            "left": null,
            "margin": null,
            "max_height": null,
            "max_width": null,
            "min_height": null,
            "min_width": null,
            "object_fit": null,
            "object_position": null,
            "order": null,
            "overflow": null,
            "overflow_x": null,
            "overflow_y": null,
            "padding": null,
            "right": null,
            "top": null,
            "visibility": null,
            "width": null
          }
        },
        "1189b6626bf24a39ae7ef2f1cd7c1695": {
          "model_module": "@jupyter-widgets/controls",
          "model_name": "ProgressStyleModel",
          "model_module_version": "1.5.0",
          "state": {
            "_model_module": "@jupyter-widgets/controls",
            "_model_module_version": "1.5.0",
            "_model_name": "ProgressStyleModel",
            "_view_count": null,
            "_view_module": "@jupyter-widgets/base",
            "_view_module_version": "1.2.0",
            "_view_name": "StyleView",
            "bar_color": null,
            "description_width": ""
          }
        },
        "ffd6fe564ed74b33af9ac2f6ee05f379": {
          "model_module": "@jupyter-widgets/base",
          "model_name": "LayoutModel",
          "model_module_version": "1.2.0",
          "state": {
            "_model_module": "@jupyter-widgets/base",
            "_model_module_version": "1.2.0",
            "_model_name": "LayoutModel",
            "_view_count": null,
            "_view_module": "@jupyter-widgets/base",
            "_view_module_version": "1.2.0",
            "_view_name": "LayoutView",
            "align_content": null,
            "align_items": null,
            "align_self": null,
            "border": null,
            "bottom": null,
            "display": null,
            "flex": null,
            "flex_flow": null,
            "grid_area": null,
            "grid_auto_columns": null,
            "grid_auto_flow": null,
            "grid_auto_rows": null,
            "grid_column": null,
            "grid_gap": null,
            "grid_row": null,
            "grid_template_areas": null,
            "grid_template_columns": null,
            "grid_template_rows": null,
            "height": null,
            "justify_content": null,
            "justify_items": null,
            "left": null,
            "margin": null,
            "max_height": null,
            "max_width": null,
            "min_height": null,
            "min_width": null,
            "object_fit": null,
            "object_position": null,
            "order": null,
            "overflow": null,
            "overflow_x": null,
            "overflow_y": null,
            "padding": null,
            "right": null,
            "top": null,
            "visibility": null,
            "width": null
          }
        },
        "90dd201c38024ef48839ad1be8b831fe": {
          "model_module": "@jupyter-widgets/controls",
          "model_name": "DescriptionStyleModel",
          "model_module_version": "1.5.0",
          "state": {
            "_model_module": "@jupyter-widgets/controls",
            "_model_module_version": "1.5.0",
            "_model_name": "DescriptionStyleModel",
            "_view_count": null,
            "_view_module": "@jupyter-widgets/base",
            "_view_module_version": "1.2.0",
            "_view_name": "StyleView",
            "description_width": ""
          }
        }
      }
    }
  },
  "cells": [
    {
      "cell_type": "markdown",
      "source": [
        "Test tokens for T5-small"
      ],
      "metadata": {
        "id": "5duifEsjFEfW"
      }
    },
    {
      "cell_type": "code",
      "execution_count": null,
      "metadata": {
        "colab": {
          "base_uri": "https://localhost:8080/"
        },
        "id": "xEXVBWuwfYxE",
        "outputId": "a0a10bd5-0d8a-46c2-8853-cd68994a348b"
      },
      "outputs": [
        {
          "output_type": "stream",
          "name": "stdout",
          "text": [
            "Requirement already satisfied: transformers in /usr/local/lib/python3.11/dist-packages (4.48.3)\n",
            "Requirement already satisfied: filelock in /usr/local/lib/python3.11/dist-packages (from transformers) (3.17.0)\n",
            "Requirement already satisfied: huggingface-hub<1.0,>=0.24.0 in /usr/local/lib/python3.11/dist-packages (from transformers) (0.28.1)\n",
            "Requirement already satisfied: numpy>=1.17 in /usr/local/lib/python3.11/dist-packages (from transformers) (1.26.4)\n",
            "Requirement already satisfied: packaging>=20.0 in /usr/local/lib/python3.11/dist-packages (from transformers) (24.2)\n",
            "Requirement already satisfied: pyyaml>=5.1 in /usr/local/lib/python3.11/dist-packages (from transformers) (6.0.2)\n",
            "Requirement already satisfied: regex!=2019.12.17 in /usr/local/lib/python3.11/dist-packages (from transformers) (2024.11.6)\n",
            "Requirement already satisfied: requests in /usr/local/lib/python3.11/dist-packages (from transformers) (2.32.3)\n",
            "Requirement already satisfied: tokenizers<0.22,>=0.21 in /usr/local/lib/python3.11/dist-packages (from transformers) (0.21.0)\n",
            "Requirement already satisfied: safetensors>=0.4.1 in /usr/local/lib/python3.11/dist-packages (from transformers) (0.5.3)\n",
            "Requirement already satisfied: tqdm>=4.27 in /usr/local/lib/python3.11/dist-packages (from transformers) (4.67.1)\n",
            "Requirement already satisfied: fsspec>=2023.5.0 in /usr/local/lib/python3.11/dist-packages (from huggingface-hub<1.0,>=0.24.0->transformers) (2024.10.0)\n",
            "Requirement already satisfied: typing-extensions>=3.7.4.3 in /usr/local/lib/python3.11/dist-packages (from huggingface-hub<1.0,>=0.24.0->transformers) (4.12.2)\n",
            "Requirement already satisfied: charset-normalizer<4,>=2 in /usr/local/lib/python3.11/dist-packages (from requests->transformers) (3.4.1)\n",
            "Requirement already satisfied: idna<4,>=2.5 in /usr/local/lib/python3.11/dist-packages (from requests->transformers) (3.10)\n",
            "Requirement already satisfied: urllib3<3,>=1.21.1 in /usr/local/lib/python3.11/dist-packages (from requests->transformers) (2.3.0)\n",
            "Requirement already satisfied: certifi>=2017.4.17 in /usr/local/lib/python3.11/dist-packages (from requests->transformers) (2025.1.31)\n"
          ]
        }
      ],
      "source": [
        "pip install transformers"
      ]
    },
    {
      "cell_type": "code",
      "source": [
        "from transformers import T5Tokenizer\n",
        "\n",
        "# โหลด tokenizer สำหรับ T5\n",
        "tokenizer = T5Tokenizer.from_pretrained(\"t5-small\")"
      ],
      "metadata": {
        "colab": {
          "base_uri": "https://localhost:8080/",
          "height": 151,
          "referenced_widgets": [
            "89e696c9374a467fbcb6166aa6ee3d41",
            "caf1c65dc8f8422e85cd529dfeb499b4",
            "171688acc3ca45398b567f8d2fe77b55",
            "c9645c6d00d84afba76656576884746d",
            "191a46dadbbe4fca86460ae84e13b25e",
            "199e5f5db69941a084516968e1f1dc89",
            "75bae1f02d5a48318f27be7fc1799370",
            "8d0ac4b39f664a04b59abb6ecbaefa38",
            "4a66430e7cf44d80b6c19a44172ad64a",
            "0a733a9c8eac481f82f156c2700ab7db",
            "76097b035dea489c9ad72b963a82572a",
            "aab9f9d920dc4aa288f8e2c8a12c91f7",
            "f2425eea5ad5440dae916e08d4f623cc",
            "5d759b82cf3846bdbd085f07a907efd4",
            "b4217f03db9541f89c3d9df5dc6acd96",
            "adfdc0495f154ce4ad0d0dac591b5fa0",
            "7e6e2ab7937b4ba08f6f9cf8532a4bd9",
            "5db92728616f437c9c844c315a18d9dc",
            "fa42480746a041ea95186d167386618e",
            "c793e49153744aff8adf1f0898c9cc02",
            "e80531c7fd204f3ab283c4fec0543d08",
            "232873230b6c45f9af1a33adc13dc4e3",
            "0e441784527f47998950e6a6c93b972c",
            "f13e3f351f3241efb82f4e7e99e44ea6",
            "35ea7d507195412194db5728cef5bfa0",
            "377357661feb451d9a7eab6971b8b1f5",
            "23413f108e154b2f9d472d2a9c8e92ee",
            "f678ddc771ab458c894af3f683da5610",
            "acb78b1c9e774cc99ccf2af50935858c",
            "1726ca083e61415fb8f7b2d012c338e8",
            "1189b6626bf24a39ae7ef2f1cd7c1695",
            "ffd6fe564ed74b33af9ac2f6ee05f379",
            "90dd201c38024ef48839ad1be8b831fe"
          ]
        },
        "id": "Dbgn2JZEfcLA",
        "outputId": "fe75bffc-0394-4c0e-b789-f71ea5861d77"
      },
      "execution_count": null,
      "outputs": [
        {
          "output_type": "display_data",
          "data": {
            "text/plain": [
              "tokenizer_config.json:   0%|          | 0.00/2.32k [00:00<?, ?B/s]"
            ],
            "application/vnd.jupyter.widget-view+json": {
              "version_major": 2,
              "version_minor": 0,
              "model_id": "89e696c9374a467fbcb6166aa6ee3d41"
            }
          },
          "metadata": {}
        },
        {
          "output_type": "display_data",
          "data": {
            "text/plain": [
              "spiece.model:   0%|          | 0.00/792k [00:00<?, ?B/s]"
            ],
            "application/vnd.jupyter.widget-view+json": {
              "version_major": 2,
              "version_minor": 0,
              "model_id": "aab9f9d920dc4aa288f8e2c8a12c91f7"
            }
          },
          "metadata": {}
        },
        {
          "output_type": "display_data",
          "data": {
            "text/plain": [
              "tokenizer.json:   0%|          | 0.00/1.39M [00:00<?, ?B/s]"
            ],
            "application/vnd.jupyter.widget-view+json": {
              "version_major": 2,
              "version_minor": 0,
              "model_id": "0e441784527f47998950e6a6c93b972c"
            }
          },
          "metadata": {}
        },
        {
          "output_type": "stream",
          "name": "stderr",
          "text": [
            "You are using the default legacy behaviour of the <class 'transformers.models.t5.tokenization_t5.T5Tokenizer'>. This is expected, and simply means that the `legacy` (previous) behavior will be used so nothing changes for you. If you want to use the new behaviour, set `legacy=False`. This should only be set if you understand what it means, and thoroughly read the reason why this was added as explained in https://github.com/huggingface/transformers/pull/24565\n"
          ]
        }
      ]
    },
    {
      "cell_type": "code",
      "source": [
        "def token(text):\n",
        "    tokenized = tokenizer(text, padding=True, truncation=True, return_tensors=\"pt\")\n",
        "    print(\"Token IDs:\", tokenized[\"input_ids\"])\n",
        "    return tokenized\n"
      ],
      "metadata": {
        "id": "RD8awvSbfdvc"
      },
      "execution_count": null,
      "outputs": []
    },
    {
      "cell_type": "markdown",
      "source": [
        "คำยาวๆที่เกิดจากการรวมคำสั้นๆ มักจะถูกแบ่งออกเป็นหลายๆคำ"
      ],
      "metadata": {
        "id": "5uJo9M2gFOAM"
      }
    },
    {
      "cell_type": "code",
      "source": [
        "text = \"Unpredicable\"\n",
        "token(text)"
      ],
      "metadata": {
        "colab": {
          "base_uri": "https://localhost:8080/"
        },
        "id": "SCU7aivx1Mpt",
        "outputId": "ed02ad52-b659-4b9b-a9e4-c2b8b450de43"
      },
      "execution_count": null,
      "outputs": [
        {
          "output_type": "stream",
          "name": "stdout",
          "text": [
            "Tokens: ['▁Un', 'pre', 'dic', 'able']\n",
            "Token IDs: [597, 2026, 4370, 179, 1]\n"
          ]
        },
        {
          "output_type": "execute_result",
          "data": {
            "text/plain": [
              "[597, 2026, 4370, 179, 1]"
            ]
          },
          "metadata": {},
          "execution_count": 4
        }
      ]
    },
    {
      "cell_type": "markdown",
      "source": [
        "รวมเครื่องหมายพิเศษบางส่วนด้วย"
      ],
      "metadata": {
        "id": "pamxowv3FS6D"
      }
    },
    {
      "cell_type": "code",
      "source": [
        "text = \"Hello!@#\"\n",
        "token(text)"
      ],
      "metadata": {
        "colab": {
          "base_uri": "https://localhost:8080/"
        },
        "id": "ZS73BHTR2LmI",
        "outputId": "41a2540a-9ce5-41f9-d3ba-f27c5d3238eb"
      },
      "execution_count": null,
      "outputs": [
        {
          "output_type": "stream",
          "name": "stdout",
          "text": [
            "Tokens: ['▁Hello', '!', '@', '#']\n",
            "Token IDs: [8774, 55, 1741, 4663, 1]\n"
          ]
        },
        {
          "output_type": "execute_result",
          "data": {
            "text/plain": [
              "[8774, 55, 1741, 4663, 1]"
            ]
          },
          "metadata": {},
          "execution_count": 5
        }
      ]
    },
    {
      "cell_type": "code",
      "source": [
        "text = [\"Hello!\", \"Hi, there!\"]\n",
        "token_ids = token(text)\n"
      ],
      "metadata": {
        "colab": {
          "base_uri": "https://localhost:8080/"
        },
        "id": "kW46ph7e2d-J",
        "outputId": "f5bf945e-7d61-42d1-bb5b-9f533ecf7b47"
      },
      "execution_count": null,
      "outputs": [
        {
          "output_type": "stream",
          "name": "stdout",
          "text": [
            "Token IDs: tensor([[8774,   55,    1,    0,    0],\n",
            "        [2018,    6,  132,   55,    1]])\n"
          ]
        }
      ]
    },
    {
      "cell_type": "code",
      "source": [
        "text = \"This is an example of how tokenization works in T5.\"\n",
        "token(text)"
      ],
      "metadata": {
        "colab": {
          "base_uri": "https://localhost:8080/"
        },
        "id": "V8rhFtKvf2ci",
        "outputId": "0f74f1af-8bb6-48cb-d065-5079a7ba1098"
      },
      "execution_count": null,
      "outputs": [
        {
          "output_type": "stream",
          "name": "stdout",
          "text": [
            "Tokens: ['▁This', '▁is', '▁an', '▁example', '▁of', '▁how', '▁token', 'ization', '▁works', '▁in', '▁T', '5.']\n",
            "Token IDs: [100, 19, 46, 677, 13, 149, 14145, 1707, 930, 16, 332, 9125, 1]\n"
          ]
        }
      ]
    },
    {
      "cell_type": "code",
      "source": [
        "text = (\n",
        "    \"The first, A Robber's Tale, stars Welsh actor Luke Evans as Bruce Reynolds, \"\n",
        "    \"the key planner of the 1963 heist, who died last month at the age of 81. \"\n",
        "    \"The second, A Copper's Tale, will focus on the team of detectives assembled to bring the robbers to justice. \"\n",
        "    \"Julian Jarrold and James Strong will direct the two 90-minute programmes. \"\n",
        "    \"Neil Maskell, from the recent British thriller Kill List and Channel 4 drama Utopia, will play Ronald 'Buster' Edwards, \"\n",
        "    \"the robber previously played by Phil Collins in 1988 film Buster. \"\n",
        "    \"Scottish actor Martin Compston will appear as getaway driver Roy James, while Ronnie Biggs will be portrayed by Jack Gordon. \"\n",
        "    \"The casting for the second drama is yet to be announced. \"\n",
        "    \"The two-parter follows Mrs Biggs, an ITV series that viewed the robbery and its aftermath from the perspective of Ronnie's now ex-wife Charmian. \"\n",
        "    \"Earlier this month, Sheridan Smith was nominated for a best actress prize by the Royal Television Society for playing the title role. \"\n",
        "    \"Chris Chibnall, writer and executive producer of the BBC's Great Train Robbery films, said the events of August 1963 had passed into modern folklore. \"\n",
        "    \"How fantastic that such a magnificent bunch of talented young stars have come together for our first film, to tell how one gang planned - and almost got away with - the British Crime of the Century. \"\n",
        "    \"Filming begins this month on the World Productions films, which will be screened on BBC One later this year to mark the 50th anniversary of the raid. \"\n",
        "    \"The gang targeted a mail train from Glasgow as it came through Buckinghamshire and escaped with a then-record haul of £2.6m - equivalent to around £40m today. \"\n",
        "    \"A Robber's Tale will begin with Reynolds' earlier planning and execution of a robbery at Heathrow Airport the preceding year.\"\n",
        ")\n",
        "a = token(text)"
      ],
      "metadata": {
        "colab": {
          "base_uri": "https://localhost:8080/"
        },
        "id": "N5DBSm_cgU1R",
        "outputId": "aa29dc2b-9927-4b95-9b99-8bb74da1270c"
      },
      "execution_count": null,
      "outputs": [
        {
          "output_type": "stream",
          "name": "stdout",
          "text": [
            "Tokens: ['▁The', '▁first', ',', '▁A', '▁Rob', 'ber', \"'\", 's', '▁Tale', ',', '▁stars', '▁Welsh', '▁actor', '▁Luke', '▁Evans', '▁as', '▁Bruce', '▁Reynolds', ',', '▁the', '▁key', '▁planner', '▁of', '▁the', '▁1963', '▁', 'he', 'ist', ',', '▁who', '▁died', '▁last', '▁month', '▁at', '▁the', '▁age', '▁of', '▁', '81', '.', '▁The', '▁second', ',', '▁A', '▁Copper', \"'\", 's', '▁Tale', ',', '▁will', '▁focus', '▁on', '▁the', '▁team', '▁of', '▁detective', 's', '▁assembled', '▁to', '▁bring', '▁the', '▁', 'rob', 'ber', 's', '▁to', '▁justice', '.', '▁Julian', '▁Jar', 'r', 'old', '▁and', '▁James', '▁Strong', '▁will', '▁direct', '▁the', '▁two', '▁90', '-', 'minute', '▁programmes', '.', '▁Neil', '▁Mask', 'ell', ',', '▁from', '▁the', '▁recent', '▁British', '▁thriller', '▁Kill', '▁List', '▁and', '▁Channel', '▁4', '▁drama', '▁U', 't', 'opia', ',', '▁will', '▁play', '▁Ronald', '▁', \"'\", 'Bu', 'ster', \"'\", '▁Edward', 's', ',', '▁the', '▁', 'rob', 'ber', '▁previously', '▁played', '▁by', '▁Phil', '▁Collins', '▁in', '▁1988', '▁film', '▁Bus', 'ter', '.', '▁Scottish', '▁actor', '▁Martin', '▁Comp', 'ston', '▁will', '▁appear', '▁as', '▁getaway', '▁driver', '▁Roy', '▁James', ',', '▁while', '▁Ro', 'nnie', '▁Big', 'g', 's', '▁will', '▁be', '▁', 'portrayed', '▁by', '▁Jack', '▁Gordon', '.', '▁The', '▁casting', '▁for', '▁the', '▁second', '▁drama', '▁is', '▁yet', '▁to', '▁be', '▁announced', '.', '▁The', '▁two', '-', 'part', 'er', '▁follows', '▁Mrs', '▁Big', 'g', 's', ',', '▁an', '▁I', 'TV', '▁series', '▁that', '▁', 'viewed', '▁the', '▁', 'rob', 'ber', 'y', '▁and', '▁its', '▁aftermath', '▁from', '▁the', '▁perspective', '▁of', '▁Ro', 'nnie', \"'\", 's', '▁now', '▁ex', '-', 'wife', '▁Charm', 'i', 'an', '.', '▁', 'Earlier', '▁this', '▁month', ',', '▁She', 'rid', 'an', '▁Smith', '▁was', '▁no', 'min', 'ated', '▁for', '▁', 'a', '▁best', '▁actress', '▁prize', '▁by', '▁the', '▁Royal', '▁Television', '▁Society', '▁for', '▁playing', '▁the', '▁title', '▁role', '.', '▁Chris', '▁Chi', 'b', 'n', 'all', ',', '▁writer', '▁and', '▁executive', '▁producer', '▁of', '▁the', '▁BBC', \"'\", 's', '▁Great', '▁Train', '▁Rob', 'ber', 'y', '▁films', ',', '▁said', '▁the', '▁events', '▁of', '▁August', '▁1963', '▁had', '▁passed', '▁into', '▁modern', '▁folk', 'lor', 'e', '.', '▁How', '▁fantastic', '▁that', '▁such', '▁', 'a', '▁magnificent', '▁bunch', '▁of', '▁talented', '▁young', '▁stars', '▁have', '▁come', '▁together', '▁for', '▁our', '▁first', '▁film', ',', '▁to', '▁tell', '▁how', '▁one', '▁', 'gang', '▁planned', '▁', '-', '▁and', '▁almost', '▁got', '▁away', '▁with', '▁', '-', '▁the', '▁British', '▁Crime', '▁of', '▁the', '▁Century', '.', '▁Film', 'ing', '▁begins', '▁this', '▁month', '▁on', '▁the', '▁World', '▁Production', 's', '▁films', ',', '▁which', '▁will', '▁be', '▁', 'screened', '▁on', '▁BBC', '▁One', '▁later', '▁this', '▁year', '▁to', '▁mark', '▁the', '▁50', 'th', '▁anniversary', '▁of', '▁the', '▁raid', '.', '▁The', '▁', 'gang', '▁targeted', '▁', 'a', '▁mail', '▁train', '▁from', '▁Glasgow', '▁as', '▁it', '▁came', '▁through', '▁Buck', 'ingham', 'shire', '▁and', '▁', 'escaped', '▁with', '▁', 'a', '▁then', '-', 're', 'cord', '▁haul', '▁of', '▁£', '2.6', 'm', '▁', '-', '▁equivalent', '▁to', '▁around', '▁£', '40', 'm', '▁today', '.', '▁A', '▁Rob', 'ber', \"'\", 's', '▁Tale', '▁will', '▁begin', '▁with', '▁Reynolds', \"'\", '▁earlier', '▁planning', '▁and', '▁execution', '▁of', '▁', 'a', '▁', 'rob', 'ber', 'y', '▁at', '▁Heat', 'h', 'row', '▁Airport', '▁the', '▁preced', 'ing', '▁year', '.']\n",
            "Token IDs: [37, 166, 6, 71, 5376, 1152, 31, 7, 19098, 6, 4811, 22982, 7556, 12020, 18305, 38, 13800, 27815, 6, 8, 843, 13015, 13, 8, 20613, 3, 88, 343, 6, 113, 3977, 336, 847, 44, 8, 1246, 13, 3, 4959, 5, 37, 511, 6, 71, 19756, 31, 7, 19098, 6, 56, 992, 30, 8, 372, 13, 23959, 7, 17583, 12, 830, 8, 3, 5840, 1152, 7, 12, 4831, 5, 20080, 17321, 52, 1490, 11, 2549, 16366, 56, 1223, 8, 192, 2777, 18, 6890, 9015, 5, 17906, 23709, 3820, 6, 45, 8, 1100, 2390, 23512, 14450, 6792, 11, 9916, 314, 6616, 412, 17, 18916, 6, 56, 577, 18393, 3, 31, 7793, 1370, 31, 8200, 7, 6, 8, 3, 5840, 1152, 3150, 1944, 57, 8188, 16517, 16, 10414, 814, 5703, 449, 5, 12580, 7556, 3394, 4961, 4411, 56, 2385, 38, 21837, 2535, 15875, 2549, 6, 298, 2158, 11113, 2734, 122, 7, 56, 36, 3, 27486, 57, 4496, 14626, 5, 37, 16050, 21, 8, 511, 6616, 19, 780, 12, 36, 2162, 5, 37, 192, 18, 2274, 49, 6963, 8667, 2734, 122, 7, 6, 46, 27, 4562, 939, 24, 3, 4931, 8, 3, 5840, 1152, 63, 11, 165, 26752, 45, 8, 3503, 13, 2158, 11113, 31, 7, 230, 1215, 18, 22106, 20330, 23, 152, 5, 3, 15944, 48, 847, 6, 451, 4055, 152, 3931, 47, 150, 1109, 920, 21, 3, 9, 200, 15676, 6441, 57, 8, 3671, 21922, 3467, 21, 1556, 8, 2233, 1075, 5, 4409, 2695, 115, 29, 1748, 6, 4346, 11, 4297, 8211, 13, 8, 9938, 31, 7, 1651, 15059, 5376, 1152, 63, 4852, 6, 243, 8, 984, 13, 1660, 20613, 141, 2804, 139, 941, 12702, 322, 15, 5, 571, 2723, 24, 224, 3, 9, 12044, 7292, 13, 7799, 1021, 4811, 43, 369, 544, 21, 69, 166, 814, 6, 12, 817, 149, 80, 3, 3810, 4355, 3, 18, 11, 966, 530, 550, 28, 3, 18, 8, 2390, 16923, 13, 8, 12336, 5, 3417, 53, 4396, 48, 847, 30, 8, 1150, 11114, 7, 4852, 6, 84, 56, 36, 3, 22529, 30, 9938, 555, 865, 48, 215, 12, 3946, 8, 943, 189, 7685, 13, 8, 15941, 5, 37, 3, 3810, 7774, 3, 9, 4842, 2412, 45, 18588, 38, 34, 764, 190, 10295, 14799, 5718, 11, 3, 28423, 28, 3, 9, 258, 18, 60, 7621, 14115, 13, 3996, 22724, 51, 3, 18, 7072, 12, 300, 3996, 2445, 51, 469, 5, 71, 5376, 1152, 31, 7, 19098, 56, 1731, 28, 27815, 31, 2283, 1459, 11, 9328, 13, 3, 9, 3, 5840, 1152, 63, 44, 7862, 107, 3623, 5735, 8, 20799, 53, 215, 5, 1]\n"
          ]
        }
      ]
    },
    {
      "cell_type": "code",
      "source": [
        "len(text)"
      ],
      "metadata": {
        "colab": {
          "base_uri": "https://localhost:8080/"
        },
        "id": "nyMbnjEqjjSB",
        "outputId": "dfbb8f4b-b28c-4b36-f01b-2f02d59471c6"
      },
      "execution_count": null,
      "outputs": [
        {
          "output_type": "execute_result",
          "data": {
            "text/plain": [
              "1762"
            ]
          },
          "metadata": {},
          "execution_count": 46
        }
      ]
    },
    {
      "cell_type": "code",
      "source": [
        "len(a)"
      ],
      "metadata": {
        "colab": {
          "base_uri": "https://localhost:8080/"
        },
        "id": "X4xNlHQvjO0U",
        "outputId": "7e598492-1a6a-409e-d4fc-95a1de2025f2"
      },
      "execution_count": null,
      "outputs": [
        {
          "output_type": "execute_result",
          "data": {
            "text/plain": [
              "427"
            ]
          },
          "metadata": {},
          "execution_count": 47
        }
      ]
    }
  ]
}