{
  "nbformat": 4,
  "nbformat_minor": 0,
  "metadata": {
    "colab": {
      "provenance": [],
      "machine_shape": "hm",
      "authorship_tag": "ABX9TyOW/kAdRErz4HMCbHB7R0YF"
    },
    "kernelspec": {
      "name": "python3",
      "display_name": "Python 3"
    },
    "language_info": {
      "name": "python"
    },
    "widgets": {
      "application/vnd.jupyter.widget-state+json": {
        "929c66f3db5b43df808ee86f43be09a7": {
          "model_module": "@jupyter-widgets/controls",
          "model_name": "HBoxModel",
          "model_module_version": "1.5.0",
          "state": {
            "_dom_classes": [],
            "_model_module": "@jupyter-widgets/controls",
            "_model_module_version": "1.5.0",
            "_model_name": "HBoxModel",
            "_view_count": null,
            "_view_module": "@jupyter-widgets/controls",
            "_view_module_version": "1.5.0",
            "_view_name": "HBoxView",
            "box_style": "",
            "children": [
              "IPY_MODEL_4fca03df646a47e58cab7b3eedc55f5b",
              "IPY_MODEL_0caf983eb43e4f6c8285a02df645f13d",
              "IPY_MODEL_d455ffb7150e46e6b5eedcd587c4015b"
            ],
            "layout": "IPY_MODEL_51a46a60e5b7482a83e1836788ac8dfb"
          }
        },
        "4fca03df646a47e58cab7b3eedc55f5b": {
          "model_module": "@jupyter-widgets/controls",
          "model_name": "HTMLModel",
          "model_module_version": "1.5.0",
          "state": {
            "_dom_classes": [],
            "_model_module": "@jupyter-widgets/controls",
            "_model_module_version": "1.5.0",
            "_model_name": "HTMLModel",
            "_view_count": null,
            "_view_module": "@jupyter-widgets/controls",
            "_view_module_version": "1.5.0",
            "_view_name": "HTMLView",
            "description": "",
            "description_tooltip": null,
            "layout": "IPY_MODEL_355e925dc84e46ec8bed725184f2391a",
            "placeholder": "​",
            "style": "IPY_MODEL_fe11d3469e4a45429322ac8b246f33a0",
            "value": "tokenizer_config.json: 100%"
          }
        },
        "0caf983eb43e4f6c8285a02df645f13d": {
          "model_module": "@jupyter-widgets/controls",
          "model_name": "FloatProgressModel",
          "model_module_version": "1.5.0",
          "state": {
            "_dom_classes": [],
            "_model_module": "@jupyter-widgets/controls",
            "_model_module_version": "1.5.0",
            "_model_name": "FloatProgressModel",
            "_view_count": null,
            "_view_module": "@jupyter-widgets/controls",
            "_view_module_version": "1.5.0",
            "_view_name": "ProgressView",
            "bar_style": "success",
            "description": "",
            "description_tooltip": null,
            "layout": "IPY_MODEL_22eb40225fe3492389d99396087d485f",
            "max": 2324,
            "min": 0,
            "orientation": "horizontal",
            "style": "IPY_MODEL_a9b820b0d90844f69f79faf8a4e9c99b",
            "value": 2324
          }
        },
        "d455ffb7150e46e6b5eedcd587c4015b": {
          "model_module": "@jupyter-widgets/controls",
          "model_name": "HTMLModel",
          "model_module_version": "1.5.0",
          "state": {
            "_dom_classes": [],
            "_model_module": "@jupyter-widgets/controls",
            "_model_module_version": "1.5.0",
            "_model_name": "HTMLModel",
            "_view_count": null,
            "_view_module": "@jupyter-widgets/controls",
            "_view_module_version": "1.5.0",
            "_view_name": "HTMLView",
            "description": "",
            "description_tooltip": null,
            "layout": "IPY_MODEL_fa0f68e925314e1ba6f3c8231ef316a2",
            "placeholder": "​",
            "style": "IPY_MODEL_beb5cfc138c44488a9058eed13e70485",
            "value": " 2.32k/2.32k [00:00&lt;00:00, 150kB/s]"
          }
        },
        "51a46a60e5b7482a83e1836788ac8dfb": {
          "model_module": "@jupyter-widgets/base",
          "model_name": "LayoutModel",
          "model_module_version": "1.2.0",
          "state": {
            "_model_module": "@jupyter-widgets/base",
            "_model_module_version": "1.2.0",
            "_model_name": "LayoutModel",
            "_view_count": null,
            "_view_module": "@jupyter-widgets/base",
            "_view_module_version": "1.2.0",
            "_view_name": "LayoutView",
            "align_content": null,
            "align_items": null,
            "align_self": null,
            "border": null,
            "bottom": null,
            "display": null,
            "flex": null,
            "flex_flow": null,
            "grid_area": null,
            "grid_auto_columns": null,
            "grid_auto_flow": null,
            "grid_auto_rows": null,
            "grid_column": null,
            "grid_gap": null,
            "grid_row": null,
            "grid_template_areas": null,
            "grid_template_columns": null,
            "grid_template_rows": null,
            "height": null,
            "justify_content": null,
            "justify_items": null,
            "left": null,
            "margin": null,
            "max_height": null,
            "max_width": null,
            "min_height": null,
            "min_width": null,
            "object_fit": null,
            "object_position": null,
            "order": null,
            "overflow": null,
            "overflow_x": null,
            "overflow_y": null,
            "padding": null,
            "right": null,
            "top": null,
            "visibility": null,
            "width": null
          }
        },
        "355e925dc84e46ec8bed725184f2391a": {
          "model_module": "@jupyter-widgets/base",
          "model_name": "LayoutModel",
          "model_module_version": "1.2.0",
          "state": {
            "_model_module": "@jupyter-widgets/base",
            "_model_module_version": "1.2.0",
            "_model_name": "LayoutModel",
            "_view_count": null,
            "_view_module": "@jupyter-widgets/base",
            "_view_module_version": "1.2.0",
            "_view_name": "LayoutView",
            "align_content": null,
            "align_items": null,
            "align_self": null,
            "border": null,
            "bottom": null,
            "display": null,
            "flex": null,
            "flex_flow": null,
            "grid_area": null,
            "grid_auto_columns": null,
            "grid_auto_flow": null,
            "grid_auto_rows": null,
            "grid_column": null,
            "grid_gap": null,
            "grid_row": null,
            "grid_template_areas": null,
            "grid_template_columns": null,
            "grid_template_rows": null,
            "height": null,
            "justify_content": null,
            "justify_items": null,
            "left": null,
            "margin": null,
            "max_height": null,
            "max_width": null,
            "min_height": null,
            "min_width": null,
            "object_fit": null,
            "object_position": null,
            "order": null,
            "overflow": null,
            "overflow_x": null,
            "overflow_y": null,
            "padding": null,
            "right": null,
            "top": null,
            "visibility": null,
            "width": null
          }
        },
        "fe11d3469e4a45429322ac8b246f33a0": {
          "model_module": "@jupyter-widgets/controls",
          "model_name": "DescriptionStyleModel",
          "model_module_version": "1.5.0",
          "state": {
            "_model_module": "@jupyter-widgets/controls",
            "_model_module_version": "1.5.0",
            "_model_name": "DescriptionStyleModel",
            "_view_count": null,
            "_view_module": "@jupyter-widgets/base",
            "_view_module_version": "1.2.0",
            "_view_name": "StyleView",
            "description_width": ""
          }
        },
        "22eb40225fe3492389d99396087d485f": {
          "model_module": "@jupyter-widgets/base",
          "model_name": "LayoutModel",
          "model_module_version": "1.2.0",
          "state": {
            "_model_module": "@jupyter-widgets/base",
            "_model_module_version": "1.2.0",
            "_model_name": "LayoutModel",
            "_view_count": null,
            "_view_module": "@jupyter-widgets/base",
            "_view_module_version": "1.2.0",
            "_view_name": "LayoutView",
            "align_content": null,
            "align_items": null,
            "align_self": null,
            "border": null,
            "bottom": null,
            "display": null,
            "flex": null,
            "flex_flow": null,
            "grid_area": null,
            "grid_auto_columns": null,
            "grid_auto_flow": null,
            "grid_auto_rows": null,
            "grid_column": null,
            "grid_gap": null,
            "grid_row": null,
            "grid_template_areas": null,
            "grid_template_columns": null,
            "grid_template_rows": null,
            "height": null,
            "justify_content": null,
            "justify_items": null,
            "left": null,
            "margin": null,
            "max_height": null,
            "max_width": null,
            "min_height": null,
            "min_width": null,
            "object_fit": null,
            "object_position": null,
            "order": null,
            "overflow": null,
            "overflow_x": null,
            "overflow_y": null,
            "padding": null,
            "right": null,
            "top": null,
            "visibility": null,
            "width": null
          }
        },
        "a9b820b0d90844f69f79faf8a4e9c99b": {
          "model_module": "@jupyter-widgets/controls",
          "model_name": "ProgressStyleModel",
          "model_module_version": "1.5.0",
          "state": {
            "_model_module": "@jupyter-widgets/controls",
            "_model_module_version": "1.5.0",
            "_model_name": "ProgressStyleModel",
            "_view_count": null,
            "_view_module": "@jupyter-widgets/base",
            "_view_module_version": "1.2.0",
            "_view_name": "StyleView",
            "bar_color": null,
            "description_width": ""
          }
        },
        "fa0f68e925314e1ba6f3c8231ef316a2": {
          "model_module": "@jupyter-widgets/base",
          "model_name": "LayoutModel",
          "model_module_version": "1.2.0",
          "state": {
            "_model_module": "@jupyter-widgets/base",
            "_model_module_version": "1.2.0",
            "_model_name": "LayoutModel",
            "_view_count": null,
            "_view_module": "@jupyter-widgets/base",
            "_view_module_version": "1.2.0",
            "_view_name": "LayoutView",
            "align_content": null,
            "align_items": null,
            "align_self": null,
            "border": null,
            "bottom": null,
            "display": null,
            "flex": null,
            "flex_flow": null,
            "grid_area": null,
            "grid_auto_columns": null,
            "grid_auto_flow": null,
            "grid_auto_rows": null,
            "grid_column": null,
            "grid_gap": null,
            "grid_row": null,
            "grid_template_areas": null,
            "grid_template_columns": null,
            "grid_template_rows": null,
            "height": null,
            "justify_content": null,
            "justify_items": null,
            "left": null,
            "margin": null,
            "max_height": null,
            "max_width": null,
            "min_height": null,
            "min_width": null,
            "object_fit": null,
            "object_position": null,
            "order": null,
            "overflow": null,
            "overflow_x": null,
            "overflow_y": null,
            "padding": null,
            "right": null,
            "top": null,
            "visibility": null,
            "width": null
          }
        },
        "beb5cfc138c44488a9058eed13e70485": {
          "model_module": "@jupyter-widgets/controls",
          "model_name": "DescriptionStyleModel",
          "model_module_version": "1.5.0",
          "state": {
            "_model_module": "@jupyter-widgets/controls",
            "_model_module_version": "1.5.0",
            "_model_name": "DescriptionStyleModel",
            "_view_count": null,
            "_view_module": "@jupyter-widgets/base",
            "_view_module_version": "1.2.0",
            "_view_name": "StyleView",
            "description_width": ""
          }
        },
        "4b9dd636f31b43a19347645cd6d2f8fc": {
          "model_module": "@jupyter-widgets/controls",
          "model_name": "HBoxModel",
          "model_module_version": "1.5.0",
          "state": {
            "_dom_classes": [],
            "_model_module": "@jupyter-widgets/controls",
            "_model_module_version": "1.5.0",
            "_model_name": "HBoxModel",
            "_view_count": null,
            "_view_module": "@jupyter-widgets/controls",
            "_view_module_version": "1.5.0",
            "_view_name": "HBoxView",
            "box_style": "",
            "children": [
              "IPY_MODEL_bb71be95ac94450db9e8ec3a8ef14c82",
              "IPY_MODEL_805d085e4c054c05b53e32a7107f96ec",
              "IPY_MODEL_2e4e46dbbc1c48a7a5d14532a93fdcf1"
            ],
            "layout": "IPY_MODEL_901a5885c79e4e42a1f226dfa01943bc"
          }
        },
        "bb71be95ac94450db9e8ec3a8ef14c82": {
          "model_module": "@jupyter-widgets/controls",
          "model_name": "HTMLModel",
          "model_module_version": "1.5.0",
          "state": {
            "_dom_classes": [],
            "_model_module": "@jupyter-widgets/controls",
            "_model_module_version": "1.5.0",
            "_model_name": "HTMLModel",
            "_view_count": null,
            "_view_module": "@jupyter-widgets/controls",
            "_view_module_version": "1.5.0",
            "_view_name": "HTMLView",
            "description": "",
            "description_tooltip": null,
            "layout": "IPY_MODEL_aca3b7774fcb414d8a80426cb73969b4",
            "placeholder": "​",
            "style": "IPY_MODEL_9e4dd4c290a7469fa3d571f5327057ef",
            "value": "spiece.model: 100%"
          }
        },
        "805d085e4c054c05b53e32a7107f96ec": {
          "model_module": "@jupyter-widgets/controls",
          "model_name": "FloatProgressModel",
          "model_module_version": "1.5.0",
          "state": {
            "_dom_classes": [],
            "_model_module": "@jupyter-widgets/controls",
            "_model_module_version": "1.5.0",
            "_model_name": "FloatProgressModel",
            "_view_count": null,
            "_view_module": "@jupyter-widgets/controls",
            "_view_module_version": "1.5.0",
            "_view_name": "ProgressView",
            "bar_style": "success",
            "description": "",
            "description_tooltip": null,
            "layout": "IPY_MODEL_af2a70f8741f46048cef0ae724063aaa",
            "max": 791656,
            "min": 0,
            "orientation": "horizontal",
            "style": "IPY_MODEL_83a3d914531543ea9c8f2c0d963c0eb8",
            "value": 791656
          }
        },
        "2e4e46dbbc1c48a7a5d14532a93fdcf1": {
          "model_module": "@jupyter-widgets/controls",
          "model_name": "HTMLModel",
          "model_module_version": "1.5.0",
          "state": {
            "_dom_classes": [],
            "_model_module": "@jupyter-widgets/controls",
            "_model_module_version": "1.5.0",
            "_model_name": "HTMLModel",
            "_view_count": null,
            "_view_module": "@jupyter-widgets/controls",
            "_view_module_version": "1.5.0",
            "_view_name": "HTMLView",
            "description": "",
            "description_tooltip": null,
            "layout": "IPY_MODEL_cf8a2179a15340319dd1ddbed9d1ebc0",
            "placeholder": "​",
            "style": "IPY_MODEL_52d671a45e91464a92199e74509cda00",
            "value": " 792k/792k [00:00&lt;00:00, 10.1MB/s]"
          }
        },
        "901a5885c79e4e42a1f226dfa01943bc": {
          "model_module": "@jupyter-widgets/base",
          "model_name": "LayoutModel",
          "model_module_version": "1.2.0",
          "state": {
            "_model_module": "@jupyter-widgets/base",
            "_model_module_version": "1.2.0",
            "_model_name": "LayoutModel",
            "_view_count": null,
            "_view_module": "@jupyter-widgets/base",
            "_view_module_version": "1.2.0",
            "_view_name": "LayoutView",
            "align_content": null,
            "align_items": null,
            "align_self": null,
            "border": null,
            "bottom": null,
            "display": null,
            "flex": null,
            "flex_flow": null,
            "grid_area": null,
            "grid_auto_columns": null,
            "grid_auto_flow": null,
            "grid_auto_rows": null,
            "grid_column": null,
            "grid_gap": null,
            "grid_row": null,
            "grid_template_areas": null,
            "grid_template_columns": null,
            "grid_template_rows": null,
            "height": null,
            "justify_content": null,
            "justify_items": null,
            "left": null,
            "margin": null,
            "max_height": null,
            "max_width": null,
            "min_height": null,
            "min_width": null,
            "object_fit": null,
            "object_position": null,
            "order": null,
            "overflow": null,
            "overflow_x": null,
            "overflow_y": null,
            "padding": null,
            "right": null,
            "top": null,
            "visibility": null,
            "width": null
          }
        },
        "aca3b7774fcb414d8a80426cb73969b4": {
          "model_module": "@jupyter-widgets/base",
          "model_name": "LayoutModel",
          "model_module_version": "1.2.0",
          "state": {
            "_model_module": "@jupyter-widgets/base",
            "_model_module_version": "1.2.0",
            "_model_name": "LayoutModel",
            "_view_count": null,
            "_view_module": "@jupyter-widgets/base",
            "_view_module_version": "1.2.0",
            "_view_name": "LayoutView",
            "align_content": null,
            "align_items": null,
            "align_self": null,
            "border": null,
            "bottom": null,
            "display": null,
            "flex": null,
            "flex_flow": null,
            "grid_area": null,
            "grid_auto_columns": null,
            "grid_auto_flow": null,
            "grid_auto_rows": null,
            "grid_column": null,
            "grid_gap": null,
            "grid_row": null,
            "grid_template_areas": null,
            "grid_template_columns": null,
            "grid_template_rows": null,
            "height": null,
            "justify_content": null,
            "justify_items": null,
            "left": null,
            "margin": null,
            "max_height": null,
            "max_width": null,
            "min_height": null,
            "min_width": null,
            "object_fit": null,
            "object_position": null,
            "order": null,
            "overflow": null,
            "overflow_x": null,
            "overflow_y": null,
            "padding": null,
            "right": null,
            "top": null,
            "visibility": null,
            "width": null
          }
        },
        "9e4dd4c290a7469fa3d571f5327057ef": {
          "model_module": "@jupyter-widgets/controls",
          "model_name": "DescriptionStyleModel",
          "model_module_version": "1.5.0",
          "state": {
            "_model_module": "@jupyter-widgets/controls",
            "_model_module_version": "1.5.0",
            "_model_name": "DescriptionStyleModel",
            "_view_count": null,
            "_view_module": "@jupyter-widgets/base",
            "_view_module_version": "1.2.0",
            "_view_name": "StyleView",
            "description_width": ""
          }
        },
        "af2a70f8741f46048cef0ae724063aaa": {
          "model_module": "@jupyter-widgets/base",
          "model_name": "LayoutModel",
          "model_module_version": "1.2.0",
          "state": {
            "_model_module": "@jupyter-widgets/base",
            "_model_module_version": "1.2.0",
            "_model_name": "LayoutModel",
            "_view_count": null,
            "_view_module": "@jupyter-widgets/base",
            "_view_module_version": "1.2.0",
            "_view_name": "LayoutView",
            "align_content": null,
            "align_items": null,
            "align_self": null,
            "border": null,
            "bottom": null,
            "display": null,
            "flex": null,
            "flex_flow": null,
            "grid_area": null,
            "grid_auto_columns": null,
            "grid_auto_flow": null,
            "grid_auto_rows": null,
            "grid_column": null,
            "grid_gap": null,
            "grid_row": null,
            "grid_template_areas": null,
            "grid_template_columns": null,
            "grid_template_rows": null,
            "height": null,
            "justify_content": null,
            "justify_items": null,
            "left": null,
            "margin": null,
            "max_height": null,
            "max_width": null,
            "min_height": null,
            "min_width": null,
            "object_fit": null,
            "object_position": null,
            "order": null,
            "overflow": null,
            "overflow_x": null,
            "overflow_y": null,
            "padding": null,
            "right": null,
            "top": null,
            "visibility": null,
            "width": null
          }
        },
        "83a3d914531543ea9c8f2c0d963c0eb8": {
          "model_module": "@jupyter-widgets/controls",
          "model_name": "ProgressStyleModel",
          "model_module_version": "1.5.0",
          "state": {
            "_model_module": "@jupyter-widgets/controls",
            "_model_module_version": "1.5.0",
            "_model_name": "ProgressStyleModel",
            "_view_count": null,
            "_view_module": "@jupyter-widgets/base",
            "_view_module_version": "1.2.0",
            "_view_name": "StyleView",
            "bar_color": null,
            "description_width": ""
          }
        },
        "cf8a2179a15340319dd1ddbed9d1ebc0": {
          "model_module": "@jupyter-widgets/base",
          "model_name": "LayoutModel",
          "model_module_version": "1.2.0",
          "state": {
            "_model_module": "@jupyter-widgets/base",
            "_model_module_version": "1.2.0",
            "_model_name": "LayoutModel",
            "_view_count": null,
            "_view_module": "@jupyter-widgets/base",
            "_view_module_version": "1.2.0",
            "_view_name": "LayoutView",
            "align_content": null,
            "align_items": null,
            "align_self": null,
            "border": null,
            "bottom": null,
            "display": null,
            "flex": null,
            "flex_flow": null,
            "grid_area": null,
            "grid_auto_columns": null,
            "grid_auto_flow": null,
            "grid_auto_rows": null,
            "grid_column": null,
            "grid_gap": null,
            "grid_row": null,
            "grid_template_areas": null,
            "grid_template_columns": null,
            "grid_template_rows": null,
            "height": null,
            "justify_content": null,
            "justify_items": null,
            "left": null,
            "margin": null,
            "max_height": null,
            "max_width": null,
            "min_height": null,
            "min_width": null,
            "object_fit": null,
            "object_position": null,
            "order": null,
            "overflow": null,
            "overflow_x": null,
            "overflow_y": null,
            "padding": null,
            "right": null,
            "top": null,
            "visibility": null,
            "width": null
          }
        },
        "52d671a45e91464a92199e74509cda00": {
          "model_module": "@jupyter-widgets/controls",
          "model_name": "DescriptionStyleModel",
          "model_module_version": "1.5.0",
          "state": {
            "_model_module": "@jupyter-widgets/controls",
            "_model_module_version": "1.5.0",
            "_model_name": "DescriptionStyleModel",
            "_view_count": null,
            "_view_module": "@jupyter-widgets/base",
            "_view_module_version": "1.2.0",
            "_view_name": "StyleView",
            "description_width": ""
          }
        },
        "9362296be8ce4a3e9e21c234b7368f29": {
          "model_module": "@jupyter-widgets/controls",
          "model_name": "HBoxModel",
          "model_module_version": "1.5.0",
          "state": {
            "_dom_classes": [],
            "_model_module": "@jupyter-widgets/controls",
            "_model_module_version": "1.5.0",
            "_model_name": "HBoxModel",
            "_view_count": null,
            "_view_module": "@jupyter-widgets/controls",
            "_view_module_version": "1.5.0",
            "_view_name": "HBoxView",
            "box_style": "",
            "children": [
              "IPY_MODEL_2eeabee70b1343989948cbc66386febd",
              "IPY_MODEL_f37de048f06b434a8d6df00e73ae7b76",
              "IPY_MODEL_da90f97b669144c7b74df5052bebbe74"
            ],
            "layout": "IPY_MODEL_bdc5694c62ef4d019bf57da41001008d"
          }
        },
        "2eeabee70b1343989948cbc66386febd": {
          "model_module": "@jupyter-widgets/controls",
          "model_name": "HTMLModel",
          "model_module_version": "1.5.0",
          "state": {
            "_dom_classes": [],
            "_model_module": "@jupyter-widgets/controls",
            "_model_module_version": "1.5.0",
            "_model_name": "HTMLModel",
            "_view_count": null,
            "_view_module": "@jupyter-widgets/controls",
            "_view_module_version": "1.5.0",
            "_view_name": "HTMLView",
            "description": "",
            "description_tooltip": null,
            "layout": "IPY_MODEL_5a2c3420d7c74de38c0bef59a51506ab",
            "placeholder": "​",
            "style": "IPY_MODEL_1bfd8e4f599246eea236578c462bbcbd",
            "value": "tokenizer.json: 100%"
          }
        },
        "f37de048f06b434a8d6df00e73ae7b76": {
          "model_module": "@jupyter-widgets/controls",
          "model_name": "FloatProgressModel",
          "model_module_version": "1.5.0",
          "state": {
            "_dom_classes": [],
            "_model_module": "@jupyter-widgets/controls",
            "_model_module_version": "1.5.0",
            "_model_name": "FloatProgressModel",
            "_view_count": null,
            "_view_module": "@jupyter-widgets/controls",
            "_view_module_version": "1.5.0",
            "_view_name": "ProgressView",
            "bar_style": "success",
            "description": "",
            "description_tooltip": null,
            "layout": "IPY_MODEL_dc0686dd1f6e4207a29d4494fc75f84b",
            "max": 1389353,
            "min": 0,
            "orientation": "horizontal",
            "style": "IPY_MODEL_04602078730f44f3b7b48c6939ab08c4",
            "value": 1389353
          }
        },
        "da90f97b669144c7b74df5052bebbe74": {
          "model_module": "@jupyter-widgets/controls",
          "model_name": "HTMLModel",
          "model_module_version": "1.5.0",
          "state": {
            "_dom_classes": [],
            "_model_module": "@jupyter-widgets/controls",
            "_model_module_version": "1.5.0",
            "_model_name": "HTMLModel",
            "_view_count": null,
            "_view_module": "@jupyter-widgets/controls",
            "_view_module_version": "1.5.0",
            "_view_name": "HTMLView",
            "description": "",
            "description_tooltip": null,
            "layout": "IPY_MODEL_a4b632a6c3394a5cbe2756e218bfaa0b",
            "placeholder": "​",
            "style": "IPY_MODEL_6b2296f58c8e4e22aa63027357269cf1",
            "value": " 1.39M/1.39M [00:00&lt;00:00, 21.4MB/s]"
          }
        },
        "bdc5694c62ef4d019bf57da41001008d": {
          "model_module": "@jupyter-widgets/base",
          "model_name": "LayoutModel",
          "model_module_version": "1.2.0",
          "state": {
            "_model_module": "@jupyter-widgets/base",
            "_model_module_version": "1.2.0",
            "_model_name": "LayoutModel",
            "_view_count": null,
            "_view_module": "@jupyter-widgets/base",
            "_view_module_version": "1.2.0",
            "_view_name": "LayoutView",
            "align_content": null,
            "align_items": null,
            "align_self": null,
            "border": null,
            "bottom": null,
            "display": null,
            "flex": null,
            "flex_flow": null,
            "grid_area": null,
            "grid_auto_columns": null,
            "grid_auto_flow": null,
            "grid_auto_rows": null,
            "grid_column": null,
            "grid_gap": null,
            "grid_row": null,
            "grid_template_areas": null,
            "grid_template_columns": null,
            "grid_template_rows": null,
            "height": null,
            "justify_content": null,
            "justify_items": null,
            "left": null,
            "margin": null,
            "max_height": null,
            "max_width": null,
            "min_height": null,
            "min_width": null,
            "object_fit": null,
            "object_position": null,
            "order": null,
            "overflow": null,
            "overflow_x": null,
            "overflow_y": null,
            "padding": null,
            "right": null,
            "top": null,
            "visibility": null,
            "width": null
          }
        },
        "5a2c3420d7c74de38c0bef59a51506ab": {
          "model_module": "@jupyter-widgets/base",
          "model_name": "LayoutModel",
          "model_module_version": "1.2.0",
          "state": {
            "_model_module": "@jupyter-widgets/base",
            "_model_module_version": "1.2.0",
            "_model_name": "LayoutModel",
            "_view_count": null,
            "_view_module": "@jupyter-widgets/base",
            "_view_module_version": "1.2.0",
            "_view_name": "LayoutView",
            "align_content": null,
            "align_items": null,
            "align_self": null,
            "border": null,
            "bottom": null,
            "display": null,
            "flex": null,
            "flex_flow": null,
            "grid_area": null,
            "grid_auto_columns": null,
            "grid_auto_flow": null,
            "grid_auto_rows": null,
            "grid_column": null,
            "grid_gap": null,
            "grid_row": null,
            "grid_template_areas": null,
            "grid_template_columns": null,
            "grid_template_rows": null,
            "height": null,
            "justify_content": null,
            "justify_items": null,
            "left": null,
            "margin": null,
            "max_height": null,
            "max_width": null,
            "min_height": null,
            "min_width": null,
            "object_fit": null,
            "object_position": null,
            "order": null,
            "overflow": null,
            "overflow_x": null,
            "overflow_y": null,
            "padding": null,
            "right": null,
            "top": null,
            "visibility": null,
            "width": null
          }
        },
        "1bfd8e4f599246eea236578c462bbcbd": {
          "model_module": "@jupyter-widgets/controls",
          "model_name": "DescriptionStyleModel",
          "model_module_version": "1.5.0",
          "state": {
            "_model_module": "@jupyter-widgets/controls",
            "_model_module_version": "1.5.0",
            "_model_name": "DescriptionStyleModel",
            "_view_count": null,
            "_view_module": "@jupyter-widgets/base",
            "_view_module_version": "1.2.0",
            "_view_name": "StyleView",
            "description_width": ""
          }
        },
        "dc0686dd1f6e4207a29d4494fc75f84b": {
          "model_module": "@jupyter-widgets/base",
          "model_name": "LayoutModel",
          "model_module_version": "1.2.0",
          "state": {
            "_model_module": "@jupyter-widgets/base",
            "_model_module_version": "1.2.0",
            "_model_name": "LayoutModel",
            "_view_count": null,
            "_view_module": "@jupyter-widgets/base",
            "_view_module_version": "1.2.0",
            "_view_name": "LayoutView",
            "align_content": null,
            "align_items": null,
            "align_self": null,
            "border": null,
            "bottom": null,
            "display": null,
            "flex": null,
            "flex_flow": null,
            "grid_area": null,
            "grid_auto_columns": null,
            "grid_auto_flow": null,
            "grid_auto_rows": null,
            "grid_column": null,
            "grid_gap": null,
            "grid_row": null,
            "grid_template_areas": null,
            "grid_template_columns": null,
            "grid_template_rows": null,
            "height": null,
            "justify_content": null,
            "justify_items": null,
            "left": null,
            "margin": null,
            "max_height": null,
            "max_width": null,
            "min_height": null,
            "min_width": null,
            "object_fit": null,
            "object_position": null,
            "order": null,
            "overflow": null,
            "overflow_x": null,
            "overflow_y": null,
            "padding": null,
            "right": null,
            "top": null,
            "visibility": null,
            "width": null
          }
        },
        "04602078730f44f3b7b48c6939ab08c4": {
          "model_module": "@jupyter-widgets/controls",
          "model_name": "ProgressStyleModel",
          "model_module_version": "1.5.0",
          "state": {
            "_model_module": "@jupyter-widgets/controls",
            "_model_module_version": "1.5.0",
            "_model_name": "ProgressStyleModel",
            "_view_count": null,
            "_view_module": "@jupyter-widgets/base",
            "_view_module_version": "1.2.0",
            "_view_name": "StyleView",
            "bar_color": null,
            "description_width": ""
          }
        },
        "a4b632a6c3394a5cbe2756e218bfaa0b": {
          "model_module": "@jupyter-widgets/base",
          "model_name": "LayoutModel",
          "model_module_version": "1.2.0",
          "state": {
            "_model_module": "@jupyter-widgets/base",
            "_model_module_version": "1.2.0",
            "_model_name": "LayoutModel",
            "_view_count": null,
            "_view_module": "@jupyter-widgets/base",
            "_view_module_version": "1.2.0",
            "_view_name": "LayoutView",
            "align_content": null,
            "align_items": null,
            "align_self": null,
            "border": null,
            "bottom": null,
            "display": null,
            "flex": null,
            "flex_flow": null,
            "grid_area": null,
            "grid_auto_columns": null,
            "grid_auto_flow": null,
            "grid_auto_rows": null,
            "grid_column": null,
            "grid_gap": null,
            "grid_row": null,
            "grid_template_areas": null,
            "grid_template_columns": null,
            "grid_template_rows": null,
            "height": null,
            "justify_content": null,
            "justify_items": null,
            "left": null,
            "margin": null,
            "max_height": null,
            "max_width": null,
            "min_height": null,
            "min_width": null,
            "object_fit": null,
            "object_position": null,
            "order": null,
            "overflow": null,
            "overflow_x": null,
            "overflow_y": null,
            "padding": null,
            "right": null,
            "top": null,
            "visibility": null,
            "width": null
          }
        },
        "6b2296f58c8e4e22aa63027357269cf1": {
          "model_module": "@jupyter-widgets/controls",
          "model_name": "DescriptionStyleModel",
          "model_module_version": "1.5.0",
          "state": {
            "_model_module": "@jupyter-widgets/controls",
            "_model_module_version": "1.5.0",
            "_model_name": "DescriptionStyleModel",
            "_view_count": null,
            "_view_module": "@jupyter-widgets/base",
            "_view_module_version": "1.2.0",
            "_view_name": "StyleView",
            "description_width": ""
          }
        },
        "ac75da00b2484effa68c8ba6296f9dd1": {
          "model_module": "@jupyter-widgets/controls",
          "model_name": "HBoxModel",
          "model_module_version": "1.5.0",
          "state": {
            "_dom_classes": [],
            "_model_module": "@jupyter-widgets/controls",
            "_model_module_version": "1.5.0",
            "_model_name": "HBoxModel",
            "_view_count": null,
            "_view_module": "@jupyter-widgets/controls",
            "_view_module_version": "1.5.0",
            "_view_name": "HBoxView",
            "box_style": "",
            "children": [
              "IPY_MODEL_df93e79e7f934c86a089d3275b3399ba",
              "IPY_MODEL_f48dc65e1538490391f075ad463ef2eb",
              "IPY_MODEL_a04ed95b001a4f188671556ee2868ab2"
            ],
            "layout": "IPY_MODEL_a7db5ca6dcc841c588777f0fccc636b5"
          }
        },
        "df93e79e7f934c86a089d3275b3399ba": {
          "model_module": "@jupyter-widgets/controls",
          "model_name": "HTMLModel",
          "model_module_version": "1.5.0",
          "state": {
            "_dom_classes": [],
            "_model_module": "@jupyter-widgets/controls",
            "_model_module_version": "1.5.0",
            "_model_name": "HTMLModel",
            "_view_count": null,
            "_view_module": "@jupyter-widgets/controls",
            "_view_module_version": "1.5.0",
            "_view_name": "HTMLView",
            "description": "",
            "description_tooltip": null,
            "layout": "IPY_MODEL_3ca9f93469c04f73975281ed335c3296",
            "placeholder": "​",
            "style": "IPY_MODEL_a95440070e33448095ccf78abfbd8905",
            "value": "config.json: 100%"
          }
        },
        "f48dc65e1538490391f075ad463ef2eb": {
          "model_module": "@jupyter-widgets/controls",
          "model_name": "FloatProgressModel",
          "model_module_version": "1.5.0",
          "state": {
            "_dom_classes": [],
            "_model_module": "@jupyter-widgets/controls",
            "_model_module_version": "1.5.0",
            "_model_name": "FloatProgressModel",
            "_view_count": null,
            "_view_module": "@jupyter-widgets/controls",
            "_view_module_version": "1.5.0",
            "_view_name": "ProgressView",
            "bar_style": "success",
            "description": "",
            "description_tooltip": null,
            "layout": "IPY_MODEL_2d78ea53cd9749dc81d842fb74cb3688",
            "max": 1206,
            "min": 0,
            "orientation": "horizontal",
            "style": "IPY_MODEL_56b884fcf80642df8e1c1783a7859f5e",
            "value": 1206
          }
        },
        "a04ed95b001a4f188671556ee2868ab2": {
          "model_module": "@jupyter-widgets/controls",
          "model_name": "HTMLModel",
          "model_module_version": "1.5.0",
          "state": {
            "_dom_classes": [],
            "_model_module": "@jupyter-widgets/controls",
            "_model_module_version": "1.5.0",
            "_model_name": "HTMLModel",
            "_view_count": null,
            "_view_module": "@jupyter-widgets/controls",
            "_view_module_version": "1.5.0",
            "_view_name": "HTMLView",
            "description": "",
            "description_tooltip": null,
            "layout": "IPY_MODEL_4ce69035aa014ff290ab5a1e98adce68",
            "placeholder": "​",
            "style": "IPY_MODEL_0e65e16a15bb425c89ae8fda35b1da86",
            "value": " 1.21k/1.21k [00:00&lt;00:00, 113kB/s]"
          }
        },
        "a7db5ca6dcc841c588777f0fccc636b5": {
          "model_module": "@jupyter-widgets/base",
          "model_name": "LayoutModel",
          "model_module_version": "1.2.0",
          "state": {
            "_model_module": "@jupyter-widgets/base",
            "_model_module_version": "1.2.0",
            "_model_name": "LayoutModel",
            "_view_count": null,
            "_view_module": "@jupyter-widgets/base",
            "_view_module_version": "1.2.0",
            "_view_name": "LayoutView",
            "align_content": null,
            "align_items": null,
            "align_self": null,
            "border": null,
            "bottom": null,
            "display": null,
            "flex": null,
            "flex_flow": null,
            "grid_area": null,
            "grid_auto_columns": null,
            "grid_auto_flow": null,
            "grid_auto_rows": null,
            "grid_column": null,
            "grid_gap": null,
            "grid_row": null,
            "grid_template_areas": null,
            "grid_template_columns": null,
            "grid_template_rows": null,
            "height": null,
            "justify_content": null,
            "justify_items": null,
            "left": null,
            "margin": null,
            "max_height": null,
            "max_width": null,
            "min_height": null,
            "min_width": null,
            "object_fit": null,
            "object_position": null,
            "order": null,
            "overflow": null,
            "overflow_x": null,
            "overflow_y": null,
            "padding": null,
            "right": null,
            "top": null,
            "visibility": null,
            "width": null
          }
        },
        "3ca9f93469c04f73975281ed335c3296": {
          "model_module": "@jupyter-widgets/base",
          "model_name": "LayoutModel",
          "model_module_version": "1.2.0",
          "state": {
            "_model_module": "@jupyter-widgets/base",
            "_model_module_version": "1.2.0",
            "_model_name": "LayoutModel",
            "_view_count": null,
            "_view_module": "@jupyter-widgets/base",
            "_view_module_version": "1.2.0",
            "_view_name": "LayoutView",
            "align_content": null,
            "align_items": null,
            "align_self": null,
            "border": null,
            "bottom": null,
            "display": null,
            "flex": null,
            "flex_flow": null,
            "grid_area": null,
            "grid_auto_columns": null,
            "grid_auto_flow": null,
            "grid_auto_rows": null,
            "grid_column": null,
            "grid_gap": null,
            "grid_row": null,
            "grid_template_areas": null,
            "grid_template_columns": null,
            "grid_template_rows": null,
            "height": null,
            "justify_content": null,
            "justify_items": null,
            "left": null,
            "margin": null,
            "max_height": null,
            "max_width": null,
            "min_height": null,
            "min_width": null,
            "object_fit": null,
            "object_position": null,
            "order": null,
            "overflow": null,
            "overflow_x": null,
            "overflow_y": null,
            "padding": null,
            "right": null,
            "top": null,
            "visibility": null,
            "width": null
          }
        },
        "a95440070e33448095ccf78abfbd8905": {
          "model_module": "@jupyter-widgets/controls",
          "model_name": "DescriptionStyleModel",
          "model_module_version": "1.5.0",
          "state": {
            "_model_module": "@jupyter-widgets/controls",
            "_model_module_version": "1.5.0",
            "_model_name": "DescriptionStyleModel",
            "_view_count": null,
            "_view_module": "@jupyter-widgets/base",
            "_view_module_version": "1.2.0",
            "_view_name": "StyleView",
            "description_width": ""
          }
        },
        "2d78ea53cd9749dc81d842fb74cb3688": {
          "model_module": "@jupyter-widgets/base",
          "model_name": "LayoutModel",
          "model_module_version": "1.2.0",
          "state": {
            "_model_module": "@jupyter-widgets/base",
            "_model_module_version": "1.2.0",
            "_model_name": "LayoutModel",
            "_view_count": null,
            "_view_module": "@jupyter-widgets/base",
            "_view_module_version": "1.2.0",
            "_view_name": "LayoutView",
            "align_content": null,
            "align_items": null,
            "align_self": null,
            "border": null,
            "bottom": null,
            "display": null,
            "flex": null,
            "flex_flow": null,
            "grid_area": null,
            "grid_auto_columns": null,
            "grid_auto_flow": null,
            "grid_auto_rows": null,
            "grid_column": null,
            "grid_gap": null,
            "grid_row": null,
            "grid_template_areas": null,
            "grid_template_columns": null,
            "grid_template_rows": null,
            "height": null,
            "justify_content": null,
            "justify_items": null,
            "left": null,
            "margin": null,
            "max_height": null,
            "max_width": null,
            "min_height": null,
            "min_width": null,
            "object_fit": null,
            "object_position": null,
            "order": null,
            "overflow": null,
            "overflow_x": null,
            "overflow_y": null,
            "padding": null,
            "right": null,
            "top": null,
            "visibility": null,
            "width": null
          }
        },
        "56b884fcf80642df8e1c1783a7859f5e": {
          "model_module": "@jupyter-widgets/controls",
          "model_name": "ProgressStyleModel",
          "model_module_version": "1.5.0",
          "state": {
            "_model_module": "@jupyter-widgets/controls",
            "_model_module_version": "1.5.0",
            "_model_name": "ProgressStyleModel",
            "_view_count": null,
            "_view_module": "@jupyter-widgets/base",
            "_view_module_version": "1.2.0",
            "_view_name": "StyleView",
            "bar_color": null,
            "description_width": ""
          }
        },
        "4ce69035aa014ff290ab5a1e98adce68": {
          "model_module": "@jupyter-widgets/base",
          "model_name": "LayoutModel",
          "model_module_version": "1.2.0",
          "state": {
            "_model_module": "@jupyter-widgets/base",
            "_model_module_version": "1.2.0",
            "_model_name": "LayoutModel",
            "_view_count": null,
            "_view_module": "@jupyter-widgets/base",
            "_view_module_version": "1.2.0",
            "_view_name": "LayoutView",
            "align_content": null,
            "align_items": null,
            "align_self": null,
            "border": null,
            "bottom": null,
            "display": null,
            "flex": null,
            "flex_flow": null,
            "grid_area": null,
            "grid_auto_columns": null,
            "grid_auto_flow": null,
            "grid_auto_rows": null,
            "grid_column": null,
            "grid_gap": null,
            "grid_row": null,
            "grid_template_areas": null,
            "grid_template_columns": null,
            "grid_template_rows": null,
            "height": null,
            "justify_content": null,
            "justify_items": null,
            "left": null,
            "margin": null,
            "max_height": null,
            "max_width": null,
            "min_height": null,
            "min_width": null,
            "object_fit": null,
            "object_position": null,
            "order": null,
            "overflow": null,
            "overflow_x": null,
            "overflow_y": null,
            "padding": null,
            "right": null,
            "top": null,
            "visibility": null,
            "width": null
          }
        },
        "0e65e16a15bb425c89ae8fda35b1da86": {
          "model_module": "@jupyter-widgets/controls",
          "model_name": "DescriptionStyleModel",
          "model_module_version": "1.5.0",
          "state": {
            "_model_module": "@jupyter-widgets/controls",
            "_model_module_version": "1.5.0",
            "_model_name": "DescriptionStyleModel",
            "_view_count": null,
            "_view_module": "@jupyter-widgets/base",
            "_view_module_version": "1.2.0",
            "_view_name": "StyleView",
            "description_width": ""
          }
        },
        "56669137e0a345f7943a5bda8373b1cc": {
          "model_module": "@jupyter-widgets/controls",
          "model_name": "HBoxModel",
          "model_module_version": "1.5.0",
          "state": {
            "_dom_classes": [],
            "_model_module": "@jupyter-widgets/controls",
            "_model_module_version": "1.5.0",
            "_model_name": "HBoxModel",
            "_view_count": null,
            "_view_module": "@jupyter-widgets/controls",
            "_view_module_version": "1.5.0",
            "_view_name": "HBoxView",
            "box_style": "",
            "children": [
              "IPY_MODEL_0e45d7b0928f4a27933db62d164cfd86",
              "IPY_MODEL_b05a0bd45f804443bfeabd51c8b3e479",
              "IPY_MODEL_5a4e7c4f7bae41bdb3a74f3b70e9043e"
            ],
            "layout": "IPY_MODEL_0062a18eb2174e9e99acf54215af6d33"
          }
        },
        "0e45d7b0928f4a27933db62d164cfd86": {
          "model_module": "@jupyter-widgets/controls",
          "model_name": "HTMLModel",
          "model_module_version": "1.5.0",
          "state": {
            "_dom_classes": [],
            "_model_module": "@jupyter-widgets/controls",
            "_model_module_version": "1.5.0",
            "_model_name": "HTMLModel",
            "_view_count": null,
            "_view_module": "@jupyter-widgets/controls",
            "_view_module_version": "1.5.0",
            "_view_name": "HTMLView",
            "description": "",
            "description_tooltip": null,
            "layout": "IPY_MODEL_287450e9e7ed4c0ab7b284e92db9b4e3",
            "placeholder": "​",
            "style": "IPY_MODEL_abef0c08ff184e099b0d92152c030ffb",
            "value": "model.safetensors: 100%"
          }
        },
        "b05a0bd45f804443bfeabd51c8b3e479": {
          "model_module": "@jupyter-widgets/controls",
          "model_name": "FloatProgressModel",
          "model_module_version": "1.5.0",
          "state": {
            "_dom_classes": [],
            "_model_module": "@jupyter-widgets/controls",
            "_model_module_version": "1.5.0",
            "_model_name": "FloatProgressModel",
            "_view_count": null,
            "_view_module": "@jupyter-widgets/controls",
            "_view_module_version": "1.5.0",
            "_view_name": "ProgressView",
            "bar_style": "success",
            "description": "",
            "description_tooltip": null,
            "layout": "IPY_MODEL_fabf023494004e88bb6af7cdbee32790",
            "max": 242043056,
            "min": 0,
            "orientation": "horizontal",
            "style": "IPY_MODEL_108aaa6479734160b8bbbda1f4b5c90b",
            "value": 242043056
          }
        },
        "5a4e7c4f7bae41bdb3a74f3b70e9043e": {
          "model_module": "@jupyter-widgets/controls",
          "model_name": "HTMLModel",
          "model_module_version": "1.5.0",
          "state": {
            "_dom_classes": [],
            "_model_module": "@jupyter-widgets/controls",
            "_model_module_version": "1.5.0",
            "_model_name": "HTMLModel",
            "_view_count": null,
            "_view_module": "@jupyter-widgets/controls",
            "_view_module_version": "1.5.0",
            "_view_name": "HTMLView",
            "description": "",
            "description_tooltip": null,
            "layout": "IPY_MODEL_ecf8671e6d344f07a7737968b5a217e2",
            "placeholder": "​",
            "style": "IPY_MODEL_64baf975d6ce4b87bb0628a879783cfa",
            "value": " 242M/242M [00:01&lt;00:00, 236MB/s]"
          }
        },
        "0062a18eb2174e9e99acf54215af6d33": {
          "model_module": "@jupyter-widgets/base",
          "model_name": "LayoutModel",
          "model_module_version": "1.2.0",
          "state": {
            "_model_module": "@jupyter-widgets/base",
            "_model_module_version": "1.2.0",
            "_model_name": "LayoutModel",
            "_view_count": null,
            "_view_module": "@jupyter-widgets/base",
            "_view_module_version": "1.2.0",
            "_view_name": "LayoutView",
            "align_content": null,
            "align_items": null,
            "align_self": null,
            "border": null,
            "bottom": null,
            "display": null,
            "flex": null,
            "flex_flow": null,
            "grid_area": null,
            "grid_auto_columns": null,
            "grid_auto_flow": null,
            "grid_auto_rows": null,
            "grid_column": null,
            "grid_gap": null,
            "grid_row": null,
            "grid_template_areas": null,
            "grid_template_columns": null,
            "grid_template_rows": null,
            "height": null,
            "justify_content": null,
            "justify_items": null,
            "left": null,
            "margin": null,
            "max_height": null,
            "max_width": null,
            "min_height": null,
            "min_width": null,
            "object_fit": null,
            "object_position": null,
            "order": null,
            "overflow": null,
            "overflow_x": null,
            "overflow_y": null,
            "padding": null,
            "right": null,
            "top": null,
            "visibility": null,
            "width": null
          }
        },
        "287450e9e7ed4c0ab7b284e92db9b4e3": {
          "model_module": "@jupyter-widgets/base",
          "model_name": "LayoutModel",
          "model_module_version": "1.2.0",
          "state": {
            "_model_module": "@jupyter-widgets/base",
            "_model_module_version": "1.2.0",
            "_model_name": "LayoutModel",
            "_view_count": null,
            "_view_module": "@jupyter-widgets/base",
            "_view_module_version": "1.2.0",
            "_view_name": "LayoutView",
            "align_content": null,
            "align_items": null,
            "align_self": null,
            "border": null,
            "bottom": null,
            "display": null,
            "flex": null,
            "flex_flow": null,
            "grid_area": null,
            "grid_auto_columns": null,
            "grid_auto_flow": null,
            "grid_auto_rows": null,
            "grid_column": null,
            "grid_gap": null,
            "grid_row": null,
            "grid_template_areas": null,
            "grid_template_columns": null,
            "grid_template_rows": null,
            "height": null,
            "justify_content": null,
            "justify_items": null,
            "left": null,
            "margin": null,
            "max_height": null,
            "max_width": null,
            "min_height": null,
            "min_width": null,
            "object_fit": null,
            "object_position": null,
            "order": null,
            "overflow": null,
            "overflow_x": null,
            "overflow_y": null,
            "padding": null,
            "right": null,
            "top": null,
            "visibility": null,
            "width": null
          }
        },
        "abef0c08ff184e099b0d92152c030ffb": {
          "model_module": "@jupyter-widgets/controls",
          "model_name": "DescriptionStyleModel",
          "model_module_version": "1.5.0",
          "state": {
            "_model_module": "@jupyter-widgets/controls",
            "_model_module_version": "1.5.0",
            "_model_name": "DescriptionStyleModel",
            "_view_count": null,
            "_view_module": "@jupyter-widgets/base",
            "_view_module_version": "1.2.0",
            "_view_name": "StyleView",
            "description_width": ""
          }
        },
        "fabf023494004e88bb6af7cdbee32790": {
          "model_module": "@jupyter-widgets/base",
          "model_name": "LayoutModel",
          "model_module_version": "1.2.0",
          "state": {
            "_model_module": "@jupyter-widgets/base",
            "_model_module_version": "1.2.0",
            "_model_name": "LayoutModel",
            "_view_count": null,
            "_view_module": "@jupyter-widgets/base",
            "_view_module_version": "1.2.0",
            "_view_name": "LayoutView",
            "align_content": null,
            "align_items": null,
            "align_self": null,
            "border": null,
            "bottom": null,
            "display": null,
            "flex": null,
            "flex_flow": null,
            "grid_area": null,
            "grid_auto_columns": null,
            "grid_auto_flow": null,
            "grid_auto_rows": null,
            "grid_column": null,
            "grid_gap": null,
            "grid_row": null,
            "grid_template_areas": null,
            "grid_template_columns": null,
            "grid_template_rows": null,
            "height": null,
            "justify_content": null,
            "justify_items": null,
            "left": null,
            "margin": null,
            "max_height": null,
            "max_width": null,
            "min_height": null,
            "min_width": null,
            "object_fit": null,
            "object_position": null,
            "order": null,
            "overflow": null,
            "overflow_x": null,
            "overflow_y": null,
            "padding": null,
            "right": null,
            "top": null,
            "visibility": null,
            "width": null
          }
        },
        "108aaa6479734160b8bbbda1f4b5c90b": {
          "model_module": "@jupyter-widgets/controls",
          "model_name": "ProgressStyleModel",
          "model_module_version": "1.5.0",
          "state": {
            "_model_module": "@jupyter-widgets/controls",
            "_model_module_version": "1.5.0",
            "_model_name": "ProgressStyleModel",
            "_view_count": null,
            "_view_module": "@jupyter-widgets/base",
            "_view_module_version": "1.2.0",
            "_view_name": "StyleView",
            "bar_color": null,
            "description_width": ""
          }
        },
        "ecf8671e6d344f07a7737968b5a217e2": {
          "model_module": "@jupyter-widgets/base",
          "model_name": "LayoutModel",
          "model_module_version": "1.2.0",
          "state": {
            "_model_module": "@jupyter-widgets/base",
            "_model_module_version": "1.2.0",
            "_model_name": "LayoutModel",
            "_view_count": null,
            "_view_module": "@jupyter-widgets/base",
            "_view_module_version": "1.2.0",
            "_view_name": "LayoutView",
            "align_content": null,
            "align_items": null,
            "align_self": null,
            "border": null,
            "bottom": null,
            "display": null,
            "flex": null,
            "flex_flow": null,
            "grid_area": null,
            "grid_auto_columns": null,
            "grid_auto_flow": null,
            "grid_auto_rows": null,
            "grid_column": null,
            "grid_gap": null,
            "grid_row": null,
            "grid_template_areas": null,
            "grid_template_columns": null,
            "grid_template_rows": null,
            "height": null,
            "justify_content": null,
            "justify_items": null,
            "left": null,
            "margin": null,
            "max_height": null,
            "max_width": null,
            "min_height": null,
            "min_width": null,
            "object_fit": null,
            "object_position": null,
            "order": null,
            "overflow": null,
            "overflow_x": null,
            "overflow_y": null,
            "padding": null,
            "right": null,
            "top": null,
            "visibility": null,
            "width": null
          }
        },
        "64baf975d6ce4b87bb0628a879783cfa": {
          "model_module": "@jupyter-widgets/controls",
          "model_name": "DescriptionStyleModel",
          "model_module_version": "1.5.0",
          "state": {
            "_model_module": "@jupyter-widgets/controls",
            "_model_module_version": "1.5.0",
            "_model_name": "DescriptionStyleModel",
            "_view_count": null,
            "_view_module": "@jupyter-widgets/base",
            "_view_module_version": "1.2.0",
            "_view_name": "StyleView",
            "description_width": ""
          }
        },
        "c9aac039414f454e8ba3dcefaaff5530": {
          "model_module": "@jupyter-widgets/controls",
          "model_name": "HBoxModel",
          "model_module_version": "1.5.0",
          "state": {
            "_dom_classes": [],
            "_model_module": "@jupyter-widgets/controls",
            "_model_module_version": "1.5.0",
            "_model_name": "HBoxModel",
            "_view_count": null,
            "_view_module": "@jupyter-widgets/controls",
            "_view_module_version": "1.5.0",
            "_view_name": "HBoxView",
            "box_style": "",
            "children": [
              "IPY_MODEL_41b8325f0c3142b3a8d8565bd6b1d17b",
              "IPY_MODEL_d2b621f578b548adbd8bc90c5ba90f6e",
              "IPY_MODEL_888d40e296e04a7b9552697036a40a5f"
            ],
            "layout": "IPY_MODEL_d04dde5cce2c4200a2df315b8ed0b022"
          }
        },
        "41b8325f0c3142b3a8d8565bd6b1d17b": {
          "model_module": "@jupyter-widgets/controls",
          "model_name": "HTMLModel",
          "model_module_version": "1.5.0",
          "state": {
            "_dom_classes": [],
            "_model_module": "@jupyter-widgets/controls",
            "_model_module_version": "1.5.0",
            "_model_name": "HTMLModel",
            "_view_count": null,
            "_view_module": "@jupyter-widgets/controls",
            "_view_module_version": "1.5.0",
            "_view_name": "HTMLView",
            "description": "",
            "description_tooltip": null,
            "layout": "IPY_MODEL_944cfe86bc904a12b5c79f0084de7082",
            "placeholder": "​",
            "style": "IPY_MODEL_a5592745676a46eaa3c40a1b104dd7b4",
            "value": "generation_config.json: 100%"
          }
        },
        "d2b621f578b548adbd8bc90c5ba90f6e": {
          "model_module": "@jupyter-widgets/controls",
          "model_name": "FloatProgressModel",
          "model_module_version": "1.5.0",
          "state": {
            "_dom_classes": [],
            "_model_module": "@jupyter-widgets/controls",
            "_model_module_version": "1.5.0",
            "_model_name": "FloatProgressModel",
            "_view_count": null,
            "_view_module": "@jupyter-widgets/controls",
            "_view_module_version": "1.5.0",
            "_view_name": "ProgressView",
            "bar_style": "success",
            "description": "",
            "description_tooltip": null,
            "layout": "IPY_MODEL_0832901765a34d52a8f6149d451e5f41",
            "max": 147,
            "min": 0,
            "orientation": "horizontal",
            "style": "IPY_MODEL_020dba3c77c04b2cb0b75533433cab12",
            "value": 147
          }
        },
        "888d40e296e04a7b9552697036a40a5f": {
          "model_module": "@jupyter-widgets/controls",
          "model_name": "HTMLModel",
          "model_module_version": "1.5.0",
          "state": {
            "_dom_classes": [],
            "_model_module": "@jupyter-widgets/controls",
            "_model_module_version": "1.5.0",
            "_model_name": "HTMLModel",
            "_view_count": null,
            "_view_module": "@jupyter-widgets/controls",
            "_view_module_version": "1.5.0",
            "_view_name": "HTMLView",
            "description": "",
            "description_tooltip": null,
            "layout": "IPY_MODEL_cf7e6ebc7b0e448f876a7718032257d6",
            "placeholder": "​",
            "style": "IPY_MODEL_093e5d60282643c58dd61549ed8881bb",
            "value": " 147/147 [00:00&lt;00:00, 15.0kB/s]"
          }
        },
        "d04dde5cce2c4200a2df315b8ed0b022": {
          "model_module": "@jupyter-widgets/base",
          "model_name": "LayoutModel",
          "model_module_version": "1.2.0",
          "state": {
            "_model_module": "@jupyter-widgets/base",
            "_model_module_version": "1.2.0",
            "_model_name": "LayoutModel",
            "_view_count": null,
            "_view_module": "@jupyter-widgets/base",
            "_view_module_version": "1.2.0",
            "_view_name": "LayoutView",
            "align_content": null,
            "align_items": null,
            "align_self": null,
            "border": null,
            "bottom": null,
            "display": null,
            "flex": null,
            "flex_flow": null,
            "grid_area": null,
            "grid_auto_columns": null,
            "grid_auto_flow": null,
            "grid_auto_rows": null,
            "grid_column": null,
            "grid_gap": null,
            "grid_row": null,
            "grid_template_areas": null,
            "grid_template_columns": null,
            "grid_template_rows": null,
            "height": null,
            "justify_content": null,
            "justify_items": null,
            "left": null,
            "margin": null,
            "max_height": null,
            "max_width": null,
            "min_height": null,
            "min_width": null,
            "object_fit": null,
            "object_position": null,
            "order": null,
            "overflow": null,
            "overflow_x": null,
            "overflow_y": null,
            "padding": null,
            "right": null,
            "top": null,
            "visibility": null,
            "width": null
          }
        },
        "944cfe86bc904a12b5c79f0084de7082": {
          "model_module": "@jupyter-widgets/base",
          "model_name": "LayoutModel",
          "model_module_version": "1.2.0",
          "state": {
            "_model_module": "@jupyter-widgets/base",
            "_model_module_version": "1.2.0",
            "_model_name": "LayoutModel",
            "_view_count": null,
            "_view_module": "@jupyter-widgets/base",
            "_view_module_version": "1.2.0",
            "_view_name": "LayoutView",
            "align_content": null,
            "align_items": null,
            "align_self": null,
            "border": null,
            "bottom": null,
            "display": null,
            "flex": null,
            "flex_flow": null,
            "grid_area": null,
            "grid_auto_columns": null,
            "grid_auto_flow": null,
            "grid_auto_rows": null,
            "grid_column": null,
            "grid_gap": null,
            "grid_row": null,
            "grid_template_areas": null,
            "grid_template_columns": null,
            "grid_template_rows": null,
            "height": null,
            "justify_content": null,
            "justify_items": null,
            "left": null,
            "margin": null,
            "max_height": null,
            "max_width": null,
            "min_height": null,
            "min_width": null,
            "object_fit": null,
            "object_position": null,
            "order": null,
            "overflow": null,
            "overflow_x": null,
            "overflow_y": null,
            "padding": null,
            "right": null,
            "top": null,
            "visibility": null,
            "width": null
          }
        },
        "a5592745676a46eaa3c40a1b104dd7b4": {
          "model_module": "@jupyter-widgets/controls",
          "model_name": "DescriptionStyleModel",
          "model_module_version": "1.5.0",
          "state": {
            "_model_module": "@jupyter-widgets/controls",
            "_model_module_version": "1.5.0",
            "_model_name": "DescriptionStyleModel",
            "_view_count": null,
            "_view_module": "@jupyter-widgets/base",
            "_view_module_version": "1.2.0",
            "_view_name": "StyleView",
            "description_width": ""
          }
        },
        "0832901765a34d52a8f6149d451e5f41": {
          "model_module": "@jupyter-widgets/base",
          "model_name": "LayoutModel",
          "model_module_version": "1.2.0",
          "state": {
            "_model_module": "@jupyter-widgets/base",
            "_model_module_version": "1.2.0",
            "_model_name": "LayoutModel",
            "_view_count": null,
            "_view_module": "@jupyter-widgets/base",
            "_view_module_version": "1.2.0",
            "_view_name": "LayoutView",
            "align_content": null,
            "align_items": null,
            "align_self": null,
            "border": null,
            "bottom": null,
            "display": null,
            "flex": null,
            "flex_flow": null,
            "grid_area": null,
            "grid_auto_columns": null,
            "grid_auto_flow": null,
            "grid_auto_rows": null,
            "grid_column": null,
            "grid_gap": null,
            "grid_row": null,
            "grid_template_areas": null,
            "grid_template_columns": null,
            "grid_template_rows": null,
            "height": null,
            "justify_content": null,
            "justify_items": null,
            "left": null,
            "margin": null,
            "max_height": null,
            "max_width": null,
            "min_height": null,
            "min_width": null,
            "object_fit": null,
            "object_position": null,
            "order": null,
            "overflow": null,
            "overflow_x": null,
            "overflow_y": null,
            "padding": null,
            "right": null,
            "top": null,
            "visibility": null,
            "width": null
          }
        },
        "020dba3c77c04b2cb0b75533433cab12": {
          "model_module": "@jupyter-widgets/controls",
          "model_name": "ProgressStyleModel",
          "model_module_version": "1.5.0",
          "state": {
            "_model_module": "@jupyter-widgets/controls",
            "_model_module_version": "1.5.0",
            "_model_name": "ProgressStyleModel",
            "_view_count": null,
            "_view_module": "@jupyter-widgets/base",
            "_view_module_version": "1.2.0",
            "_view_name": "StyleView",
            "bar_color": null,
            "description_width": ""
          }
        },
        "cf7e6ebc7b0e448f876a7718032257d6": {
          "model_module": "@jupyter-widgets/base",
          "model_name": "LayoutModel",
          "model_module_version": "1.2.0",
          "state": {
            "_model_module": "@jupyter-widgets/base",
            "_model_module_version": "1.2.0",
            "_model_name": "LayoutModel",
            "_view_count": null,
            "_view_module": "@jupyter-widgets/base",
            "_view_module_version": "1.2.0",
            "_view_name": "LayoutView",
            "align_content": null,
            "align_items": null,
            "align_self": null,
            "border": null,
            "bottom": null,
            "display": null,
            "flex": null,
            "flex_flow": null,
            "grid_area": null,
            "grid_auto_columns": null,
            "grid_auto_flow": null,
            "grid_auto_rows": null,
            "grid_column": null,
            "grid_gap": null,
            "grid_row": null,
            "grid_template_areas": null,
            "grid_template_columns": null,
            "grid_template_rows": null,
            "height": null,
            "justify_content": null,
            "justify_items": null,
            "left": null,
            "margin": null,
            "max_height": null,
            "max_width": null,
            "min_height": null,
            "min_width": null,
            "object_fit": null,
            "object_position": null,
            "order": null,
            "overflow": null,
            "overflow_x": null,
            "overflow_y": null,
            "padding": null,
            "right": null,
            "top": null,
            "visibility": null,
            "width": null
          }
        },
        "093e5d60282643c58dd61549ed8881bb": {
          "model_module": "@jupyter-widgets/controls",
          "model_name": "DescriptionStyleModel",
          "model_module_version": "1.5.0",
          "state": {
            "_model_module": "@jupyter-widgets/controls",
            "_model_module_version": "1.5.0",
            "_model_name": "DescriptionStyleModel",
            "_view_count": null,
            "_view_module": "@jupyter-widgets/base",
            "_view_module_version": "1.2.0",
            "_view_name": "StyleView",
            "description_width": ""
          }
        }
      }
    }
  },
  "cells": [
    {
      "cell_type": "code",
      "source": [
        "!pip install transformers"
      ],
      "metadata": {
        "colab": {
          "base_uri": "https://localhost:8080/"
        },
        "id": "NsxqY4HEn9nk",
        "outputId": "f9300ce6-380e-4290-f49a-961b79f66665"
      },
      "execution_count": null,
      "outputs": [
        {
          "output_type": "stream",
          "name": "stdout",
          "text": [
            "Requirement already satisfied: transformers in /usr/local/lib/python3.10/dist-packages (4.47.1)\n",
            "Requirement already satisfied: filelock in /usr/local/lib/python3.10/dist-packages (from transformers) (3.16.1)\n",
            "Requirement already satisfied: huggingface-hub<1.0,>=0.24.0 in /usr/local/lib/python3.10/dist-packages (from transformers) (0.27.1)\n",
            "Requirement already satisfied: numpy>=1.17 in /usr/local/lib/python3.10/dist-packages (from transformers) (1.26.4)\n",
            "Requirement already satisfied: packaging>=20.0 in /usr/local/lib/python3.10/dist-packages (from transformers) (24.2)\n",
            "Requirement already satisfied: pyyaml>=5.1 in /usr/local/lib/python3.10/dist-packages (from transformers) (6.0.2)\n",
            "Requirement already satisfied: regex!=2019.12.17 in /usr/local/lib/python3.10/dist-packages (from transformers) (2024.11.6)\n",
            "Requirement already satisfied: requests in /usr/local/lib/python3.10/dist-packages (from transformers) (2.32.3)\n",
            "Requirement already satisfied: tokenizers<0.22,>=0.21 in /usr/local/lib/python3.10/dist-packages (from transformers) (0.21.0)\n",
            "Requirement already satisfied: safetensors>=0.4.1 in /usr/local/lib/python3.10/dist-packages (from transformers) (0.5.1)\n",
            "Requirement already satisfied: tqdm>=4.27 in /usr/local/lib/python3.10/dist-packages (from transformers) (4.67.1)\n",
            "Requirement already satisfied: fsspec>=2023.5.0 in /usr/local/lib/python3.10/dist-packages (from huggingface-hub<1.0,>=0.24.0->transformers) (2024.10.0)\n",
            "Requirement already satisfied: typing-extensions>=3.7.4.3 in /usr/local/lib/python3.10/dist-packages (from huggingface-hub<1.0,>=0.24.0->transformers) (4.12.2)\n",
            "Requirement already satisfied: charset-normalizer<4,>=2 in /usr/local/lib/python3.10/dist-packages (from requests->transformers) (3.4.1)\n",
            "Requirement already satisfied: idna<4,>=2.5 in /usr/local/lib/python3.10/dist-packages (from requests->transformers) (3.10)\n",
            "Requirement already satisfied: urllib3<3,>=1.21.1 in /usr/local/lib/python3.10/dist-packages (from requests->transformers) (2.3.0)\n",
            "Requirement already satisfied: certifi>=2017.4.17 in /usr/local/lib/python3.10/dist-packages (from requests->transformers) (2024.12.14)\n"
          ]
        }
      ]
    },
    {
      "cell_type": "code",
      "execution_count": null,
      "metadata": {
        "id": "OkC6F6hdgmHa"
      },
      "outputs": [],
      "source": [
        "from transformers import AutoTokenizer, AutoModelForSeq2SeqLM"
      ]
    },
    {
      "cell_type": "code",
      "source": [
        "# โหลดโมเดลและ Tokenizer\n",
        "model_name = \"t5-small\"\n",
        "tokenizer = AutoTokenizer.from_pretrained(model_name)\n",
        "model = AutoModelForSeq2SeqLM.from_pretrained(model_name)"
      ],
      "metadata": {
        "colab": {
          "base_uri": "https://localhost:8080/",
          "height": 209,
          "referenced_widgets": [
            "929c66f3db5b43df808ee86f43be09a7",
            "4fca03df646a47e58cab7b3eedc55f5b",
            "0caf983eb43e4f6c8285a02df645f13d",
            "d455ffb7150e46e6b5eedcd587c4015b",
            "51a46a60e5b7482a83e1836788ac8dfb",
            "355e925dc84e46ec8bed725184f2391a",
            "fe11d3469e4a45429322ac8b246f33a0",
            "22eb40225fe3492389d99396087d485f",
            "a9b820b0d90844f69f79faf8a4e9c99b",
            "fa0f68e925314e1ba6f3c8231ef316a2",
            "beb5cfc138c44488a9058eed13e70485",
            "4b9dd636f31b43a19347645cd6d2f8fc",
            "bb71be95ac94450db9e8ec3a8ef14c82",
            "805d085e4c054c05b53e32a7107f96ec",
            "2e4e46dbbc1c48a7a5d14532a93fdcf1",
            "901a5885c79e4e42a1f226dfa01943bc",
            "aca3b7774fcb414d8a80426cb73969b4",
            "9e4dd4c290a7469fa3d571f5327057ef",
            "af2a70f8741f46048cef0ae724063aaa",
            "83a3d914531543ea9c8f2c0d963c0eb8",
            "cf8a2179a15340319dd1ddbed9d1ebc0",
            "52d671a45e91464a92199e74509cda00",
            "9362296be8ce4a3e9e21c234b7368f29",
            "2eeabee70b1343989948cbc66386febd",
            "f37de048f06b434a8d6df00e73ae7b76",
            "da90f97b669144c7b74df5052bebbe74",
            "bdc5694c62ef4d019bf57da41001008d",
            "5a2c3420d7c74de38c0bef59a51506ab",
            "1bfd8e4f599246eea236578c462bbcbd",
            "dc0686dd1f6e4207a29d4494fc75f84b",
            "04602078730f44f3b7b48c6939ab08c4",
            "a4b632a6c3394a5cbe2756e218bfaa0b",
            "6b2296f58c8e4e22aa63027357269cf1",
            "ac75da00b2484effa68c8ba6296f9dd1",
            "df93e79e7f934c86a089d3275b3399ba",
            "f48dc65e1538490391f075ad463ef2eb",
            "a04ed95b001a4f188671556ee2868ab2",
            "a7db5ca6dcc841c588777f0fccc636b5",
            "3ca9f93469c04f73975281ed335c3296",
            "a95440070e33448095ccf78abfbd8905",
            "2d78ea53cd9749dc81d842fb74cb3688",
            "56b884fcf80642df8e1c1783a7859f5e",
            "4ce69035aa014ff290ab5a1e98adce68",
            "0e65e16a15bb425c89ae8fda35b1da86",
            "56669137e0a345f7943a5bda8373b1cc",
            "0e45d7b0928f4a27933db62d164cfd86",
            "b05a0bd45f804443bfeabd51c8b3e479",
            "5a4e7c4f7bae41bdb3a74f3b70e9043e",
            "0062a18eb2174e9e99acf54215af6d33",
            "287450e9e7ed4c0ab7b284e92db9b4e3",
            "abef0c08ff184e099b0d92152c030ffb",
            "fabf023494004e88bb6af7cdbee32790",
            "108aaa6479734160b8bbbda1f4b5c90b",
            "ecf8671e6d344f07a7737968b5a217e2",
            "64baf975d6ce4b87bb0628a879783cfa",
            "c9aac039414f454e8ba3dcefaaff5530",
            "41b8325f0c3142b3a8d8565bd6b1d17b",
            "d2b621f578b548adbd8bc90c5ba90f6e",
            "888d40e296e04a7b9552697036a40a5f",
            "d04dde5cce2c4200a2df315b8ed0b022",
            "944cfe86bc904a12b5c79f0084de7082",
            "a5592745676a46eaa3c40a1b104dd7b4",
            "0832901765a34d52a8f6149d451e5f41",
            "020dba3c77c04b2cb0b75533433cab12",
            "cf7e6ebc7b0e448f876a7718032257d6",
            "093e5d60282643c58dd61549ed8881bb"
          ]
        },
        "id": "JarMRJEVniPi",
        "outputId": "aae086c6-d5b9-4009-8dbd-3f8c9a1c2a1e"
      },
      "execution_count": null,
      "outputs": [
        {
          "output_type": "display_data",
          "data": {
            "text/plain": [
              "tokenizer_config.json:   0%|          | 0.00/2.32k [00:00<?, ?B/s]"
            ],
            "application/vnd.jupyter.widget-view+json": {
              "version_major": 2,
              "version_minor": 0,
              "model_id": "929c66f3db5b43df808ee86f43be09a7"
            }
          },
          "metadata": {}
        },
        {
          "output_type": "display_data",
          "data": {
            "text/plain": [
              "spiece.model:   0%|          | 0.00/792k [00:00<?, ?B/s]"
            ],
            "application/vnd.jupyter.widget-view+json": {
              "version_major": 2,
              "version_minor": 0,
              "model_id": "4b9dd636f31b43a19347645cd6d2f8fc"
            }
          },
          "metadata": {}
        },
        {
          "output_type": "display_data",
          "data": {
            "text/plain": [
              "tokenizer.json:   0%|          | 0.00/1.39M [00:00<?, ?B/s]"
            ],
            "application/vnd.jupyter.widget-view+json": {
              "version_major": 2,
              "version_minor": 0,
              "model_id": "9362296be8ce4a3e9e21c234b7368f29"
            }
          },
          "metadata": {}
        },
        {
          "output_type": "display_data",
          "data": {
            "text/plain": [
              "config.json:   0%|          | 0.00/1.21k [00:00<?, ?B/s]"
            ],
            "application/vnd.jupyter.widget-view+json": {
              "version_major": 2,
              "version_minor": 0,
              "model_id": "ac75da00b2484effa68c8ba6296f9dd1"
            }
          },
          "metadata": {}
        },
        {
          "output_type": "display_data",
          "data": {
            "text/plain": [
              "model.safetensors:   0%|          | 0.00/242M [00:00<?, ?B/s]"
            ],
            "application/vnd.jupyter.widget-view+json": {
              "version_major": 2,
              "version_minor": 0,
              "model_id": "56669137e0a345f7943a5bda8373b1cc"
            }
          },
          "metadata": {}
        },
        {
          "output_type": "display_data",
          "data": {
            "text/plain": [
              "generation_config.json:   0%|          | 0.00/147 [00:00<?, ?B/s]"
            ],
            "application/vnd.jupyter.widget-view+json": {
              "version_major": 2,
              "version_minor": 0,
              "model_id": "c9aac039414f454e8ba3dcefaaff5530"
            }
          },
          "metadata": {}
        }
      ]
    },
    {
      "cell_type": "markdown",
      "source": [
        "# Test Sliding windows"
      ],
      "metadata": {
        "id": "-VCzvr9voAhE"
      }
    },
    {
      "cell_type": "markdown",
      "source": [
        "## Test without dynamic"
      ],
      "metadata": {
        "id": "og6oGvd5QePP"
      }
    },
    {
      "cell_type": "code",
      "source": [
        "long_text2 = \"\"\" The Role of Artificial Intelligence in Modern Healthcare\n",
        "Artificial intelligence (AI) is transforming numerous industries, and healthcare stands as one of the most significantly impacted fields.\n",
        "With the ever-increasing amounts of data generated in healthcare—from patient records and diagnostic images to genomic sequences—AI technologies offer powerful tools for analysis,\n",
        "prediction, and decision-making. By leveraging machine learning algorithms, natural language processing (NLP), and computer vision, AI applications are enhancing the accuracy of diagnoses,\n",
        "optimizing treatment plans, and improving patient outcomes.\n",
        "AI in Diagnostics\n",
        "One of the most critical applications of AI in healthcare is in diagnostics. Machine learning models trained on vast datasets of medical images can detect abnormalities such as tumors, fractures,\n",
        "or signs of diseases like diabetic retinopathy. For instance, AI algorithms in radiology can analyze X-rays, CT scans, and MRIs with remarkable speed and accuracy, often surpassing human performance.\n",
        "Similarly, in pathology, AI systems can assist in identifying cancerous cells from histopathological slides, reducing the risk of human error and enabling faster diagnoses.\n",
        "Personalized Medicine\n",
        "Personalized medicine, a growing trend in healthcare, has also benefited immensely from AI. By analyzing genomic data, AI can identify genetic markers linked to specific diseases and suggest tailored treatment\n",
        "plans. This capability is particularly significant in oncology, where understanding a tumor's genetic profile can guide the selection of targeted therapies, maximizing efficacy while minimizing adverse effects.\n",
        "Furthermore, AI-driven tools enable predictive analytics, which can assess a patient’s risk of developing certain conditions based on their genetic and lifestyle factors, enabling early intervention.\n",
        "Operational Efficiency\n",
        "AI is not limited to clinical applications; it also plays a vital role in improving operational efficiency within healthcare systems. Predictive analytics can optimize resource allocation,\n",
        "such as predicting patient admission rates to manage hospital capacity effectively. Chatbots and virtual assistants powered by NLP can handle routine inquiries, schedule appointments,\n",
        "and provide preliminary medical advice, freeing up healthcare professionals to focus on more complex tasks. Additionally, robotic process automation (RPA) can streamline administrative processes,\n",
        "such as billing and claims processing, reducing errors and cutting costs.\n",
        "Ethical Considerations\n",
        "Despite its immense potential, the integration of AI in healthcare raises several ethical concerns. Issues surrounding patient privacy, data security, and algorithmic bias require careful consideration.\n",
        "Ensuring that AI models are trained on diverse and representative datasets is critical to avoid perpetuating health disparities. Moreover, transparent and explainable AI systems are essential to build\n",
        "trust among clinicians and patients. Regulatory frameworks and interdisciplinary collaboration will play a key role in addressing these challenges, ensuring that AI technologies are implemented responsibly.\n",
        "Future Directions\n",
        "The future of AI in healthcare is promising, with emerging technologies such as federated learning, which allows AI models to be trained across decentralized data sources without compromising privacy.\n",
        "Innovations in wearable devices and Internet of Medical Things (IoMT) are expected to further enhance remote monitoring and telemedicine services. Additionally, integrating AI with other cutting-edge\n",
        "technologies, such as blockchain for secure data sharing and quantum computing for complex problem-solving, could unlock new possibilities in the healthcare landscape.\n",
        "\"\"\""
      ],
      "metadata": {
        "id": "SUu4eUUPAaYs"
      },
      "execution_count": null,
      "outputs": []
    },
    {
      "cell_type": "code",
      "source": [
        "summary_2 = \"\"\" AI is revolutionizing healthcare by enhancing diagnostics, enabling personalized medicine, and improving operational efficiency.\n",
        "While challenges related to ethics, privacy, and bias remain, advancements like federated learning and IoMT promise a future of safer, more efficient, and more equitable healthcare solutions.\"\"\""
      ],
      "metadata": {
        "id": "Qd1XDp9dUO6n"
      },
      "execution_count": null,
      "outputs": []
    },
    {
      "cell_type": "code",
      "source": [
        "tokens2 = tokenizer.encode(long_text2, return_tensors=\"pt\", truncation=False)\n",
        "tokens2.size(1)"
      ],
      "metadata": {
        "colab": {
          "base_uri": "https://localhost:8080/"
        },
        "id": "UkO6Q6h_A4ax",
        "outputId": "b234077d-43a6-4ad5-9b6f-de0bd57ab749"
      },
      "execution_count": null,
      "outputs": [
        {
          "output_type": "execute_result",
          "data": {
            "text/plain": [
              "697"
            ]
          },
          "metadata": {},
          "execution_count": 16
        }
      ]
    },
    {
      "cell_type": "code",
      "source": [
        "def sliding_window_summarization1(text, max_length=509, overlap=128, prefix = \"summarize: \"):\n",
        "\n",
        "    tokens = tokenizer.encode(text, return_tensors=\"pt\", truncation=False)\n",
        "    token_chunks = []\n",
        "    start = 0\n",
        "\n",
        "    # สร้าง chunks ที่มีการทับซ้อน\n",
        "    while start < tokens.size(1):\n",
        "        end = start + max_length\n",
        "        chunk_tokens = tokens[:, start:end]\n",
        "        chunk_text = tokenizer.decode(chunk_tokens[0], skip_special_tokens=True)\n",
        "        # เพิ่ม prefix\n",
        "        chunk_with_prefix = prefix + chunk_text\n",
        "        token_chunks.append(chunk_with_prefix)\n",
        "        start = end - overlap  # เลื่อนหน้าต่างโดยมีการทับซ้อน\n",
        "\n",
        "    return token_chunks"
      ],
      "metadata": {
        "id": "EfNBPkpCQ6eL"
      },
      "execution_count": null,
      "outputs": []
    },
    {
      "cell_type": "code",
      "source": [
        "test1 = sliding_window_summarization1(long_text2)\n",
        "test1"
      ],
      "metadata": {
        "colab": {
          "base_uri": "https://localhost:8080/"
        },
        "id": "FfPVJQHaRKpO",
        "outputId": "83e27fda-d928-4729-d95e-6ffefb88889a"
      },
      "execution_count": null,
      "outputs": [
        {
          "output_type": "execute_result",
          "data": {
            "text/plain": [
              "[\"summarize: The Role of Artificial Intelligence in Modern Healthcare Artificial intelligence (AI) is transforming numerous industries, and healthcare stands as one of the most significantly impacted fields. With the ever-increasing amounts of data generated in healthcare—from patient records and diagnostic images to genomic sequences—AI technologies offer powerful tools for analysis, prediction, and decision-making. By leveraging machine learning algorithms, natural language processing (NLP), and computer vision, AI applications are enhancing the accuracy of diagnoses, optimizing treatment plans, and improving patient outcomes. AI in Diagnostics One of the most critical applications of AI in healthcare is in diagnostics. Machine learning models trained on vast datasets of medical images can detect abnormalities such as tumors, fractures, or signs of diseases like diabetic retinopathy. For instance, AI algorithms in radiology can analyze X-rays, CT scans, and MRIs with remarkable speed and accuracy, often surpassing human performance. Similarly, in pathology, AI systems can assist in identifying cancerous cells from histopathological slides, reducing the risk of human error and enabling faster diagnoses. Personalized Medicine Personalized medicine, a growing trend in healthcare, has also benefited immensely from AI. By analyzing genomic data, AI can identify genetic markers linked to specific diseases and suggest tailored treatment plans. This capability is particularly significant in oncology, where understanding a tumor's genetic profile can guide the selection of targeted therapies, maximizing efficacy while minimizing adverse effects. Furthermore, AI-driven tools enable predictive analytics, which can assess a patient’s risk of developing certain conditions based on their genetic and lifestyle factors, enabling early intervention. Operational Efficiency AI is not limited to clinical applications; it also plays a vital role in improving operational efficiency within healthcare systems. Predictive analytics can optimize resource allocation, such as predicting patient admission rates to manage hospital capacity effectively. Chatbots and virtual assistants powered by NLP can handle routine inquiries, schedule appointments, and provide preliminary medical advice, freeing up healthcare professionals to focus on more complex tasks. Additionally, robotic process automation (RPA) can streamline administrative processes, such as billing and claims processing, reducing errors and cutting costs. Ethical Considerations Despite its immense potential, the integration of AI in healthcare raises several ethical concerns. Issues surrounding patient privacy, data security, and\",\n",
              " 'summarize: in improving operational efficiency within healthcare systems. Predictive analytics can optimize resource allocation, such as predicting patient admission rates to manage hospital capacity effectively. Chatbots and virtual assistants powered by NLP can handle routine inquiries, schedule appointments, and provide preliminary medical advice, freeing up healthcare professionals to focus on more complex tasks. Additionally, robotic process automation (RPA) can streamline administrative processes, such as billing and claims processing, reducing errors and cutting costs. Ethical Considerations Despite its immense potential, the integration of AI in healthcare raises several ethical concerns. Issues surrounding patient privacy, data security, and algorithmic bias require careful consideration. Ensuring that AI models are trained on diverse and representative datasets is critical to avoid perpetuating health disparities. Moreover, transparent and explainable AI systems are essential to build trust among clinicians and patients. Regulatory frameworks and interdisciplinary collaboration will play a key role in addressing these challenges, ensuring that AI technologies are implemented responsibly. Future Directions The future of AI in healthcare is promising, with emerging technologies such as federated learning, which allows AI models to be trained across decentralized data sources without compromising privacy. Innovations in wearable devices and Internet of Medical Things (IoMT) are expected to further enhance remote monitoring and telemedicine services. Additionally, integrating AI with other cutting-edge technologies, such as blockchain for secure data sharing and quantum computing for complex problem-solving, could unlock new possibilities in the healthcare landscape.']"
            ]
          },
          "metadata": {},
          "execution_count": 82
        }
      ]
    },
    {
      "cell_type": "code",
      "source": [
        "test2 = [tokenizer.encode(chunk, return_tensors=\"pt\", max_length=512, truncation=False) for chunk in test1]\n",
        "test2"
      ],
      "metadata": {
        "colab": {
          "base_uri": "https://localhost:8080/"
        },
        "id": "63BNMVv8RhDZ",
        "outputId": "5e82a855-2a76-41c7-ceb6-7e02384890af"
      },
      "execution_count": null,
      "outputs": [
        {
          "output_type": "execute_result",
          "data": {
            "text/plain": [
              "[tensor([[21603,    10,    37,  2158,   109,    13, 24714,  5869,  2825,  1433,\n",
              "             16,  5070, 16254, 24714,  6123,    41,  9822,    61,    19,     3,\n",
              "          21139,  2724,  5238,     6,    11,  4640,  5024,    38,    80,    13,\n",
              "              8,   167,  4019,     3, 18229,  4120,     5,   438,     8,   664,\n",
              "             18,    77,  5045,     9,     7,    53,  6201,    13,   331,  6126,\n",
              "             16,  4640,   318,  7152,  1868,  3187,    11,  7028,  1383,    12,\n",
              "          29082,  5932,     7,   318,  9822,  2896,   462,  2021,  1339,    21,\n",
              "           1693,     6, 21332,     6,    11,  1357,    18,  5239,     5,   938,\n",
              "              3, 26072,  1437,  1036, 16783,     6,   793,  1612,  3026,    41,\n",
              "            567,  6892,   201,    11,  1218,  2267,     6,  7833,  1564,    33,\n",
              "              3, 14762,     8,  7452,    13, 18730,     7,     6, 19769,    53,\n",
              "           1058,  1390,     6,    11,  4863,  1868,  6353,     5,  7833,    16,\n",
              "          27678,     7,   555,    13,     8,   167,  2404,  1564,    13,  7833,\n",
              "             16,  4640,    19,    16,  7028,     7,     5,  5879,  1036,  2250,\n",
              "           4252,    30,  4248, 17953,     7,    13,  1035,  1383,    54,  8432,\n",
              "          17947,  2197,   224,    38,  8985,     7,     6, 16898,     7,     6,\n",
              "             42,  3957,    13,  6716,   114, 17496,   447,     3, 10682,    29,\n",
              "          23599,     5,   242,  3421,     6,  7833, 16783,    16,  2252,  6427,\n",
              "             54,  8341,     3,     4,    18,  2866,     7,     6,  8668,  5924,\n",
              "              7,     6,    11,     3, 19045,     7,    28,  8562,  1634,    11,\n",
              "           7452,     6,   557, 25678,    53,   936,   821,     5,     3, 15209,\n",
              "              6,    16,  2071,  1863,     6,  7833,  1002,    54,  2094,    16,\n",
              "              3,  9690,  1874,  1162,  2640,    45,   112,   235,  8292,  4478,\n",
              "          16044,     6,     3,  5503,     8,  1020,    13,   936,  3505,    11,\n",
              "              3, 10165,  3627, 18730,     7,     5,     3, 30392,  6852,     3,\n",
              "          30392,  4404,     6,     3,     9,  1710,  4166,    16,  4640,     6,\n",
              "             65,    92,     3, 26777, 26268,    45,  7833,     5,   938,     3,\n",
              "          19175, 29082,   331,     6,  7833,    54,  2862,  6472, 17334,  5229,\n",
              "             12,   806,  6716,    11,  3130, 11051,  1058,  1390,     5,   100,\n",
              "           9004,    19,  1989,  1516,    16,    30,    75,  1863,     6,   213,\n",
              "           1705,     3,     9,  8985,    31,     7,  6472,  3278,    54,  1539,\n",
              "              8,  1801,    13,  7774, 19571,     6,     3, 30259, 13577,   447,\n",
              "           4710,   298,     3, 28807, 11233,  1951,     5,  7053,     6,  7833,\n",
              "             18, 11570,  1339,  2956, 27875,  9952,     6,    84,    54,  6570,\n",
              "              3,     9,  1868,    22,     7,  1020,    13,  2421,   824,  1124,\n",
              "              3,   390,    30,    70,  6472,    11,  4026,  2580,     6,     3,\n",
              "          10165,   778,  7897,     5,  6411,    17,  6318, 31624,  7833,    19,\n",
              "             59,  1643,    12,  3739,  1564,   117,    34,    92,  4805,     3,\n",
              "              9,  3362,  1075,    16,  4863,  7763,  3949,   441,  4640,  1002,\n",
              "              5,  1266, 12194,   757,  9952,    54, 13436,  3487, 17127,     6,\n",
              "            224,    38,     3, 29856,  1868,  7209,  1917,    12,  1865,  2833,\n",
              "           2614,  3762,     5,  9802,  4045,     7,    11,  4291,  6165,     7,\n",
              "          10028,    57,   445,  6892,    54,  2174,  3860, 20182,     6,  2023,\n",
              "          14936,     6,    11,   370, 17413,  1035,  1867,     6,   339,    53,\n",
              "             95,  4640,  2481,    12,   992,    30,    72,  1561,  4145,     5,\n",
              "           5433,     6, 20407,   433, 11747,    41,  6294,   188,    61,    54,\n",
              "          24104,  6601,  2842,     6,   224,    38, 14425,    11,  3213,  3026,\n",
              "              6,     3,  5503,  6854,    11,  3753,  1358,     5,   262,   189,\n",
              "           1950,  9151,  1628,     3,  4868,   165, 14968,  1055,     6,     8,\n",
              "           5660,    13,  7833,    16,  4640,  3033,     7,   633, 11398,  3315,\n",
              "              5, 13235,     7,  3825,  1868,  4570,     6,   331,  1034,     6,\n",
              "             11,     1]]),\n",
              " tensor([[21603,    10,    16,  4863,  7763,  3949,   441,  4640,  1002,     5,\n",
              "           1266, 12194,   757,  9952,    54, 13436,  3487, 17127,     6,   224,\n",
              "             38,     3, 29856,  1868,  7209,  1917,    12,  1865,  2833,  2614,\n",
              "           3762,     5,  9802,  4045,     7,    11,  4291,  6165,     7, 10028,\n",
              "             57,   445,  6892,    54,  2174,  3860, 20182,     6,  2023, 14936,\n",
              "              6,    11,   370, 17413,  1035,  1867,     6,   339,    53,    95,\n",
              "           4640,  2481,    12,   992,    30,    72,  1561,  4145,     5,  5433,\n",
              "              6, 20407,   433, 11747,    41,  6294,   188,    61,    54, 24104,\n",
              "           6601,  2842,     6,   224,    38, 14425,    11,  3213,  3026,     6,\n",
              "              3,  5503,  6854,    11,  3753,  1358,     5,   262,   189,  1950,\n",
              "           9151,  1628,     3,  4868,   165, 14968,  1055,     6,     8,  5660,\n",
              "             13,  7833,    16,  4640,  3033,     7,   633, 11398,  3315,     5,\n",
              "          13235,     7,  3825,  1868,  4570,     6,   331,  1034,     6,    11,\n",
              "          12628,   447, 14387,  1457,  6195,  4587,     5,   695,     7,  7920,\n",
              "             24,  7833,  2250,    33,  4252,    30,  2399,    11,  6978, 17953,\n",
              "              7,    19,  2404,    12,  1792, 31324,  1014,   533,  8378,  2197,\n",
              "              5,     3,  7371,     6,  7237,    11,  3209,   179,  7833,  1002,\n",
              "             33,  1832,    12,   918,  2019,   859, 21637,     7,    11,  1221,\n",
              "              5,     3, 31056,  4732,     7,    11,     3,    23, 25503,  3561,\n",
              "             56,   577,     3,     9,   843,  1075,    16,     3, 14198,   175,\n",
              "           2428,     6,     3,  5833,    24,  7833,  2896,    33,  6960, 31893,\n",
              "              5,  9130, 19436,     7,    37,   647,    13,  7833,    16,  4640,\n",
              "             19, 12894,     6,    28,  7821,  2896,   224,    38,     3, 16812,\n",
              "            920,  1036,     6,    84,  1250,  7833,  2250,    12,    36,  4252,\n",
              "            640,    20, 21411,   331,  2836,   406,     3, 24581,  4570,     5,\n",
              "           8268,     7,    16,  2112,   179,  1904,    11,  1284,    13,  3721,\n",
              "           9171,    41,   196,    32,  7323,    61,    33,  1644,    12,   856,\n",
              "           3391,  4322,  4891,    11,     3,  1931, 29368,   364,     5,  5433,\n",
              "              6,     3, 20030,  7833,    28,   119,  3753,    18,  9390,  2896,\n",
              "              6,   224,    38, 15047,    21,  2451,   331,  2178,    11, 21353,\n",
              "          10937,    21,  1561,   682,    18,  6065,    53,     6,   228, 12502,\n",
              "            126,  7839,    16,     8,  4640,  3283,     5,     1]])]"
            ]
          },
          "metadata": {},
          "execution_count": 85
        }
      ]
    },
    {
      "cell_type": "code",
      "source": [
        "# ฟังก์ชัน Sliding Window\n",
        "def sliding_window_summarization2(text, max_length=509, overlap=128, prefix = \"summarize: \"):\n",
        "\n",
        "    tokens = tokenizer.encode(text, return_tensors=\"pt\", truncation=False)\n",
        "    token_chunks = []; summaries = []\n",
        "    start = 0\n",
        "\n",
        "    # สร้าง chunks ที่มีการทับซ้อน\n",
        "    while start < tokens.size(1):\n",
        "        end = start + max_length\n",
        "        chunk_tokens = tokens[:, start:end]\n",
        "        chunk_text = tokenizer.decode(chunk_tokens[0], skip_special_tokens=True)\n",
        "        # เพิ่ม prefix\n",
        "        chunk_with_prefix = prefix + chunk_text\n",
        "        token_chunks.append(chunk_with_prefix)\n",
        "        start = end - overlap  # เลื่อนหน้าต่างโดยมีการทับซ้อน\n",
        "\n",
        "    for chunk in token_chunks:\n",
        "      # Encode chunk เพื่อใช้กับโมเดล\n",
        "      inputs = tokenizer.encode(chunk, return_tensors=\"pt\", max_length=512, truncation=False)\n",
        "      # สร้างสรุป\n",
        "      summary_ids = model.generate(inputs, max_length=150, num_beams=4, early_stopping=True)\n",
        "      # ถอดรหัสข้อความสรุป\n",
        "      summary = tokenizer.decode(summary_ids[0], skip_special_tokens=True)\n",
        "      summaries.append(summary)\n",
        "\n",
        "    final_summary = \" \".join(summaries)\n",
        "    return final_summary"
      ],
      "metadata": {
        "id": "DtSZPPyLDseT"
      },
      "execution_count": null,
      "outputs": []
    },
    {
      "cell_type": "code",
      "source": [
        "sliding_window_summarization2(long_text2)"
      ],
      "metadata": {
        "colab": {
          "base_uri": "https://localhost:8080/",
          "height": 70
        },
        "id": "M6xpA9ZXJDI3",
        "outputId": "efabb4c9-92b2-4678-9eb2-f3031816907e"
      },
      "execution_count": null,
      "outputs": [
        {
          "output_type": "execute_result",
          "data": {
            "text/plain": [
              "'AI is transforming numerous industries, and healthcare stands as one of the most significantly impacted fields. by leveraging machine learning algorithms, natural language processing (NLP) and computer vision, AI applications are enhancing the accuracy of diagnoses, optimizing treatment plans, and improving patient outcomes. predictive analytics can optimize resource allocation, such as predicting patient admission rates to manage hospital capacity effectively. robotic process automation (RPA) can streamline administrative processes, such as billing and claims processing, reducing errors and cutting costs.'"
            ],
            "application/vnd.google.colaboratory.intrinsic+json": {
              "type": "string"
            }
          },
          "metadata": {},
          "execution_count": 133
        }
      ]
    },
    {
      "cell_type": "code",
      "source": [
        "def test_function(examples, prefix = \"summarize: \"):\n",
        "\n",
        "    inputs = tokenizer.encode(prefix + examples, return_tensors=\"pt\", max_length=512, truncation=False)\n",
        "    outputs = model.generate(inputs, max_length=150, num_beams=4, early_stopping=True)\n",
        "    summary = tokenizer.decode(outputs[0], skip_special_tokens=True)\n",
        "    # model_inputs = tokenizer(inputs, max_length=512, truncation=False)\n",
        "    # labels = tokenizer(text_target=examples[\"summary\"], max_length=128, truncation=True)\n",
        "    # model_inputs[\"labels\"] = labels[\"input_ids\"]\n",
        "    return inputs, outputs, summary"
      ],
      "metadata": {
        "id": "d0XPJmuSNt9Y"
      },
      "execution_count": null,
      "outputs": []
    },
    {
      "cell_type": "code",
      "source": [
        "test_function(sliding_window_summarization2(long_text2))"
      ],
      "metadata": {
        "colab": {
          "base_uri": "https://localhost:8080/"
        },
        "id": "FatF5ACPSWZ1",
        "outputId": "97a5ea77-1b4d-4a9d-b6d2-1cb380710f6a"
      },
      "execution_count": null,
      "outputs": [
        {
          "output_type": "execute_result",
          "data": {
            "text/plain": [
              "(tensor([[21603,    10,  7833,    19,     3, 21139,  2724,  5238,     6,    11,\n",
              "           4640,  5024,    38,    80,    13,     8,   167,  4019,     3, 18229,\n",
              "           4120,     5,    57,     3, 26072,  1437,  1036, 16783,     6,   793,\n",
              "           1612,  3026,    41,   567,  6892,    61,    11,  1218,  2267,     6,\n",
              "           7833,  1564,    33,     3, 14762,     8,  7452,    13, 18730,     7,\n",
              "              6, 19769,    53,  1058,  1390,     6,    11,  4863,  1868,  6353,\n",
              "              5, 27875,  9952,    54, 13436,  3487, 17127,     6,   224,    38,\n",
              "              3, 29856,  1868,  7209,  1917,    12,  1865,  2833,  2614,  3762,\n",
              "              5, 20407,   433, 11747,    41,  6294,   188,    61,    54, 24104,\n",
              "           6601,  2842,     6,   224,    38, 14425,    11,  3213,  3026,     6,\n",
              "              3,  5503,  6854,    11,  3753,  1358,     5,     1]]),\n",
              " tensor([[    0,  7833,  1564,    33,     3, 14762,     8,  7452,    13, 18730,\n",
              "              7,     6, 19769,    53,  1058,  1390,     6,    11,  4863,  1868,\n",
              "           6353,     3,     5, 20407,   433, 11747,    41,  6294,   188,    61,\n",
              "             54, 24104,  6601,  2842,     6,   224,    38, 14425,    11,  3213,\n",
              "           3026,     6,     3,  5503,  6854,    11,  3753,  1358,     3,     5,\n",
              "              1]]),\n",
              " 'AI applications are enhancing the accuracy of diagnoses, optimizing treatment plans, and improving patient outcomes. robotic process automation (RPA) can streamline administrative processes, such as billing and claims processing, reducing errors and cutting costs.')"
            ]
          },
          "metadata": {},
          "execution_count": 107
        }
      ]
    },
    {
      "cell_type": "code",
      "source": [
        "summary_2"
      ],
      "metadata": {
        "colab": {
          "base_uri": "https://localhost:8080/",
          "height": 52
        },
        "id": "5zf5k1FGVw3C",
        "outputId": "ed42e26e-011c-4095-c4be-47b73f4b0722"
      },
      "execution_count": null,
      "outputs": [
        {
          "output_type": "execute_result",
          "data": {
            "text/plain": [
              "' AI is revolutionizing healthcare by enhancing diagnostics, enabling personalized medicine, and improving operational efficiency. \\nWhile challenges related to ethics, privacy, and bias remain, advancements like federated learning and IoMT promise a future of safer, more efficient, and more equitable healthcare solutions.'"
            ],
            "application/vnd.google.colaboratory.intrinsic+json": {
              "type": "string"
            }
          },
          "metadata": {},
          "execution_count": 119
        }
      ]
    },
    {
      "cell_type": "markdown",
      "source": [
        "For using in future"
      ],
      "metadata": {
        "id": "1DJXdeHrVpeg"
      }
    },
    {
      "cell_type": "code",
      "source": [
        "def preprocess_function(examples, prefix = \"summarize: \"):\n",
        "\n",
        "    inputs = prefix + examples\n",
        "    model_inputs = tokenizer(inputs, max_length=512, truncation=False)\n",
        "    labels = tokenizer(text_target=summary_2, max_length=150, truncation=True)\n",
        "    model_inputs[\"labels\"] = labels[\"input_ids\"]\n",
        "    return model_inputs"
      ],
      "metadata": {
        "id": "-EynESyBSe2-"
      },
      "execution_count": null,
      "outputs": []
    },
    {
      "cell_type": "code",
      "source": [
        "test3 = preprocess_function(sliding_window_summarization2(long_text2))\n",
        "test3"
      ],
      "metadata": {
        "colab": {
          "base_uri": "https://localhost:8080/"
        },
        "id": "nIbRjZh_OwUQ",
        "outputId": "a684d387-51fe-43a0-ca30-8c73097b1c3e"
      },
      "execution_count": null,
      "outputs": [
        {
          "output_type": "execute_result",
          "data": {
            "text/plain": [
              "{'input_ids': [21603, 10, 7833, 19, 3, 21139, 2724, 5238, 6, 11, 4640, 5024, 38, 80, 13, 8, 167, 4019, 3, 18229, 4120, 5, 57, 3, 26072, 1437, 1036, 16783, 6, 793, 1612, 3026, 41, 567, 6892, 61, 11, 1218, 2267, 6, 7833, 1564, 33, 3, 14762, 8, 7452, 13, 18730, 7, 6, 19769, 53, 1058, 1390, 6, 11, 4863, 1868, 6353, 5, 27875, 9952, 54, 13436, 3487, 17127, 6, 224, 38, 3, 29856, 1868, 7209, 1917, 12, 1865, 2833, 2614, 3762, 5, 20407, 433, 11747, 41, 6294, 188, 61, 54, 24104, 6601, 2842, 6, 224, 38, 14425, 11, 3213, 3026, 6, 3, 5503, 6854, 11, 3753, 1358, 5, 1], 'attention_mask': [1, 1, 1, 1, 1, 1, 1, 1, 1, 1, 1, 1, 1, 1, 1, 1, 1, 1, 1, 1, 1, 1, 1, 1, 1, 1, 1, 1, 1, 1, 1, 1, 1, 1, 1, 1, 1, 1, 1, 1, 1, 1, 1, 1, 1, 1, 1, 1, 1, 1, 1, 1, 1, 1, 1, 1, 1, 1, 1, 1, 1, 1, 1, 1, 1, 1, 1, 1, 1, 1, 1, 1, 1, 1, 1, 1, 1, 1, 1, 1, 1, 1, 1, 1, 1, 1, 1, 1, 1, 1, 1, 1, 1, 1, 1, 1, 1, 1, 1, 1, 1, 1, 1, 1, 1, 1, 1, 1], 'labels': [7833, 19, 9481, 2610, 4640, 57, 3, 14762, 7028, 7, 6, 3, 10165, 9354, 4404, 6, 11, 4863, 7763, 3949, 5, 818, 2428, 1341, 12, 16083, 6, 4570, 6, 11, 14387, 2367, 6, 14500, 7, 114, 3, 16812, 920, 1036, 11, 27, 32, 7323, 5712, 3, 9, 647, 13, 14289, 6, 72, 2918, 6, 11, 72, 30364, 4640, 1275, 5, 1]}"
            ]
          },
          "metadata": {},
          "execution_count": 117
        }
      ]
    },
    {
      "cell_type": "code",
      "source": [
        "tokenizer.decode(test3['input_ids'], skip_special_tokens=True)"
      ],
      "metadata": {
        "colab": {
          "base_uri": "https://localhost:8080/",
          "height": 70
        },
        "id": "5aMdpXvNPM6q",
        "outputId": "bd333504-b0e4-4ce4-c565-2c5ea566a632"
      },
      "execution_count": null,
      "outputs": [
        {
          "output_type": "execute_result",
          "data": {
            "text/plain": [
              "'summarize: AI is transforming numerous industries, and healthcare stands as one of the most significantly impacted fields. by leveraging machine learning algorithms, natural language processing (NLP) and computer vision, AI applications are enhancing the accuracy of diagnoses, optimizing treatment plans, and improving patient outcomes. predictive analytics can optimize resource allocation, such as predicting patient admission rates to manage hospital capacity effectively. robotic process automation (RPA) can streamline administrative processes, such as billing and claims processing, reducing errors and cutting costs.'"
            ],
            "application/vnd.google.colaboratory.intrinsic+json": {
              "type": "string"
            }
          },
          "metadata": {},
          "execution_count": 118
        }
      ]
    },
    {
      "cell_type": "code",
      "source": [
        "pip install evaluate"
      ],
      "metadata": {
        "colab": {
          "base_uri": "https://localhost:8080/"
        },
        "id": "aqHGKzOIWMev",
        "outputId": "f1f750c8-7d07-4bb5-88a4-bd24c3703eac"
      },
      "execution_count": null,
      "outputs": [
        {
          "output_type": "stream",
          "name": "stdout",
          "text": [
            "Collecting evaluate\n",
            "  Downloading evaluate-0.4.3-py3-none-any.whl.metadata (9.2 kB)\n",
            "Collecting datasets>=2.0.0 (from evaluate)\n",
            "  Downloading datasets-3.2.0-py3-none-any.whl.metadata (20 kB)\n",
            "Requirement already satisfied: numpy>=1.17 in /usr/local/lib/python3.10/dist-packages (from evaluate) (1.26.4)\n",
            "Collecting dill (from evaluate)\n",
            "  Downloading dill-0.3.9-py3-none-any.whl.metadata (10 kB)\n",
            "Requirement already satisfied: pandas in /usr/local/lib/python3.10/dist-packages (from evaluate) (2.2.2)\n",
            "Requirement already satisfied: requests>=2.19.0 in /usr/local/lib/python3.10/dist-packages (from evaluate) (2.32.3)\n",
            "Requirement already satisfied: tqdm>=4.62.1 in /usr/local/lib/python3.10/dist-packages (from evaluate) (4.67.1)\n",
            "Collecting xxhash (from evaluate)\n",
            "  Downloading xxhash-3.5.0-cp310-cp310-manylinux_2_17_x86_64.manylinux2014_x86_64.whl.metadata (12 kB)\n",
            "Collecting multiprocess (from evaluate)\n",
            "  Downloading multiprocess-0.70.17-py310-none-any.whl.metadata (7.2 kB)\n",
            "Requirement already satisfied: fsspec>=2021.05.0 in /usr/local/lib/python3.10/dist-packages (from fsspec[http]>=2021.05.0->evaluate) (2024.10.0)\n",
            "Requirement already satisfied: huggingface-hub>=0.7.0 in /usr/local/lib/python3.10/dist-packages (from evaluate) (0.27.1)\n",
            "Requirement already satisfied: packaging in /usr/local/lib/python3.10/dist-packages (from evaluate) (24.2)\n",
            "Requirement already satisfied: filelock in /usr/local/lib/python3.10/dist-packages (from datasets>=2.0.0->evaluate) (3.16.1)\n",
            "Requirement already satisfied: pyarrow>=15.0.0 in /usr/local/lib/python3.10/dist-packages (from datasets>=2.0.0->evaluate) (17.0.0)\n",
            "Collecting dill (from evaluate)\n",
            "  Downloading dill-0.3.8-py3-none-any.whl.metadata (10 kB)\n",
            "Collecting multiprocess (from evaluate)\n",
            "  Downloading multiprocess-0.70.16-py310-none-any.whl.metadata (7.2 kB)\n",
            "Collecting fsspec>=2021.05.0 (from fsspec[http]>=2021.05.0->evaluate)\n",
            "  Downloading fsspec-2024.9.0-py3-none-any.whl.metadata (11 kB)\n",
            "Requirement already satisfied: aiohttp in /usr/local/lib/python3.10/dist-packages (from datasets>=2.0.0->evaluate) (3.11.11)\n",
            "Requirement already satisfied: pyyaml>=5.1 in /usr/local/lib/python3.10/dist-packages (from datasets>=2.0.0->evaluate) (6.0.2)\n",
            "Requirement already satisfied: typing-extensions>=3.7.4.3 in /usr/local/lib/python3.10/dist-packages (from huggingface-hub>=0.7.0->evaluate) (4.12.2)\n",
            "Requirement already satisfied: charset-normalizer<4,>=2 in /usr/local/lib/python3.10/dist-packages (from requests>=2.19.0->evaluate) (3.4.1)\n",
            "Requirement already satisfied: idna<4,>=2.5 in /usr/local/lib/python3.10/dist-packages (from requests>=2.19.0->evaluate) (3.10)\n",
            "Requirement already satisfied: urllib3<3,>=1.21.1 in /usr/local/lib/python3.10/dist-packages (from requests>=2.19.0->evaluate) (2.3.0)\n",
            "Requirement already satisfied: certifi>=2017.4.17 in /usr/local/lib/python3.10/dist-packages (from requests>=2.19.0->evaluate) (2024.12.14)\n",
            "Requirement already satisfied: python-dateutil>=2.8.2 in /usr/local/lib/python3.10/dist-packages (from pandas->evaluate) (2.8.2)\n",
            "Requirement already satisfied: pytz>=2020.1 in /usr/local/lib/python3.10/dist-packages (from pandas->evaluate) (2024.2)\n",
            "Requirement already satisfied: tzdata>=2022.7 in /usr/local/lib/python3.10/dist-packages (from pandas->evaluate) (2024.2)\n",
            "Requirement already satisfied: aiohappyeyeballs>=2.3.0 in /usr/local/lib/python3.10/dist-packages (from aiohttp->datasets>=2.0.0->evaluate) (2.4.4)\n",
            "Requirement already satisfied: aiosignal>=1.1.2 in /usr/local/lib/python3.10/dist-packages (from aiohttp->datasets>=2.0.0->evaluate) (1.3.2)\n",
            "Requirement already satisfied: async-timeout<6.0,>=4.0 in /usr/local/lib/python3.10/dist-packages (from aiohttp->datasets>=2.0.0->evaluate) (4.0.3)\n",
            "Requirement already satisfied: attrs>=17.3.0 in /usr/local/lib/python3.10/dist-packages (from aiohttp->datasets>=2.0.0->evaluate) (24.3.0)\n",
            "Requirement already satisfied: frozenlist>=1.1.1 in /usr/local/lib/python3.10/dist-packages (from aiohttp->datasets>=2.0.0->evaluate) (1.5.0)\n",
            "Requirement already satisfied: multidict<7.0,>=4.5 in /usr/local/lib/python3.10/dist-packages (from aiohttp->datasets>=2.0.0->evaluate) (6.1.0)\n",
            "Requirement already satisfied: propcache>=0.2.0 in /usr/local/lib/python3.10/dist-packages (from aiohttp->datasets>=2.0.0->evaluate) (0.2.1)\n",
            "Requirement already satisfied: yarl<2.0,>=1.17.0 in /usr/local/lib/python3.10/dist-packages (from aiohttp->datasets>=2.0.0->evaluate) (1.18.3)\n",
            "Requirement already satisfied: six>=1.5 in /usr/local/lib/python3.10/dist-packages (from python-dateutil>=2.8.2->pandas->evaluate) (1.17.0)\n",
            "Downloading evaluate-0.4.3-py3-none-any.whl (84 kB)\n",
            "\u001b[2K   \u001b[90m━━━━━━━━━━━━━━━━━━━━━━━━━━━━━━━━━━━━━━━━\u001b[0m \u001b[32m84.0/84.0 kB\u001b[0m \u001b[31m3.0 MB/s\u001b[0m eta \u001b[36m0:00:00\u001b[0m\n",
            "\u001b[?25hDownloading datasets-3.2.0-py3-none-any.whl (480 kB)\n",
            "\u001b[2K   \u001b[90m━━━━━━━━━━━━━━━━━━━━━━━━━━━━━━━━━━━━━━━━\u001b[0m \u001b[32m480.6/480.6 kB\u001b[0m \u001b[31m13.2 MB/s\u001b[0m eta \u001b[36m0:00:00\u001b[0m\n",
            "\u001b[?25hDownloading dill-0.3.8-py3-none-any.whl (116 kB)\n",
            "\u001b[2K   \u001b[90m━━━━━━━━━━━━━━━━━━━━━━━━━━━━━━━━━━━━━━━━\u001b[0m \u001b[32m116.3/116.3 kB\u001b[0m \u001b[31m9.5 MB/s\u001b[0m eta \u001b[36m0:00:00\u001b[0m\n",
            "\u001b[?25hDownloading fsspec-2024.9.0-py3-none-any.whl (179 kB)\n",
            "\u001b[2K   \u001b[90m━━━━━━━━━━━━━━━━━━━━━━━━━━━━━━━━━━━━━━━━\u001b[0m \u001b[32m179.3/179.3 kB\u001b[0m \u001b[31m14.9 MB/s\u001b[0m eta \u001b[36m0:00:00\u001b[0m\n",
            "\u001b[?25hDownloading multiprocess-0.70.16-py310-none-any.whl (134 kB)\n",
            "\u001b[2K   \u001b[90m━━━━━━━━━━━━━━━━━━━━━━━━━━━━━━━━━━━━━━━━\u001b[0m \u001b[32m134.8/134.8 kB\u001b[0m \u001b[31m11.7 MB/s\u001b[0m eta \u001b[36m0:00:00\u001b[0m\n",
            "\u001b[?25hDownloading xxhash-3.5.0-cp310-cp310-manylinux_2_17_x86_64.manylinux2014_x86_64.whl (194 kB)\n",
            "\u001b[2K   \u001b[90m━━━━━━━━━━━━━━━━━━━━━━━━━━━━━━━━━━━━━━━━\u001b[0m \u001b[32m194.1/194.1 kB\u001b[0m \u001b[31m15.7 MB/s\u001b[0m eta \u001b[36m0:00:00\u001b[0m\n",
            "\u001b[?25hInstalling collected packages: xxhash, fsspec, dill, multiprocess, datasets, evaluate\n",
            "  Attempting uninstall: fsspec\n",
            "    Found existing installation: fsspec 2024.10.0\n",
            "    Uninstalling fsspec-2024.10.0:\n",
            "      Successfully uninstalled fsspec-2024.10.0\n",
            "\u001b[31mERROR: pip's dependency resolver does not currently take into account all the packages that are installed. This behaviour is the source of the following dependency conflicts.\n",
            "gcsfs 2024.10.0 requires fsspec==2024.10.0, but you have fsspec 2024.9.0 which is incompatible.\u001b[0m\u001b[31m\n",
            "\u001b[0mSuccessfully installed datasets-3.2.0 dill-0.3.8 evaluate-0.4.3 fsspec-2024.9.0 multiprocess-0.70.16 xxhash-3.5.0\n"
          ]
        }
      ]
    },
    {
      "cell_type": "code",
      "source": [
        "from evaluate import load\n",
        "\n",
        "rouge = load(\"rouge\")\n",
        "# Define the summarized and reference texts\n",
        "predictions = [\"\"\" AI applications are enhancing the accuracy of diagnoses, optimizing treatment plans,\n",
        "           and improving patient outcomes. robotic process automation (RPA) can streamline\n",
        "           administrative processes, such as billing and claims processing, reducing errors and cutting costs. \"\"\"]\n",
        "\n",
        "references = [summary_2]\n",
        "\n",
        "results = rouge.compute(predictions=predictions, references=references)\n",
        "print(results)"
      ],
      "metadata": {
        "colab": {
          "base_uri": "https://localhost:8080/"
        },
        "id": "qR3joMxbWL73",
        "outputId": "ba62eb12-ffd1-44c2-8ed0-3aef394f4403"
      },
      "execution_count": null,
      "outputs": [
        {
          "output_type": "stream",
          "name": "stdout",
          "text": [
            "{'rouge1': 0.18666666666666668, 'rouge2': 0.027397260273972605, 'rougeL': 0.16, 'rougeLsum': 0.18666666666666668}\n"
          ]
        }
      ]
    },
    {
      "cell_type": "markdown",
      "source": [
        "## With dynamic"
      ],
      "metadata": {
        "id": "9-tTDjdeQiAB"
      }
    },
    {
      "cell_type": "code",
      "source": [
        "# ฟังก์ชัน Sliding Window\n",
        "def sliding_window_summarization2(text, max_length=509, overlap=128, prefix = \"summarize: \"):\n",
        "\n",
        "    tokens = tokenizer.encode(text, return_tensors=\"pt\", truncation=False)\n",
        "    token_chunks = []; summaries = []\n",
        "    start = 0\n",
        "\n",
        "    # สร้าง chunks ที่มีการทับซ้อน\n",
        "    while start < tokens.size(1):\n",
        "        end = start + max_length\n",
        "        chunk_tokens = tokens[:, start:end]\n",
        "        chunk_text = tokenizer.decode(chunk_tokens[0], skip_special_tokens=True)\n",
        "        # เพิ่ม prefix\n",
        "        chunk_with_prefix = prefix + chunk_text\n",
        "        token_chunks.append(chunk_with_prefix)\n",
        "        start = end - overlap  # เลื่อนหน้าต่างโดยมีการทับซ้อน\n",
        "\n",
        "    for chunk in token_chunks:\n",
        "      # Encode chunk เพื่อใช้กับโมเดล\n",
        "      inputs = tokenizer.encode(chunk, return_tensors=\"pt\", max_length=512, truncation=False)\n",
        "      # สร้างสรุป\n",
        "      summary_ids = model.generate(inputs, max_length=150, num_beams=4, early_stopping=True)\n",
        "      # ถอดรหัสข้อความสรุป\n",
        "      summary = tokenizer.decode(summary_ids[0], skip_special_tokens=True)\n",
        "      summaries.append(summary)\n",
        "\n",
        "    final_summary = \" \".join(summaries)\n",
        "    return final_summary"
      ],
      "metadata": {
        "id": "BcHRu3SjQkPL"
      },
      "execution_count": null,
      "outputs": []
    },
    {
      "cell_type": "code",
      "source": [
        "def preprocess_function(examples, prefix = \"summarize: \"):\n",
        "\n",
        "    inputs = prefix + examples\n",
        "    model_inputs = tokenizer(inputs, max_length=512, truncation=False)\n",
        "    labels = tokenizer(text_target=summary_2, max_length=150, truncation=True)\n",
        "    model_inputs[\"labels\"] = labels[\"input_ids\"]\n",
        "    return model_inputs"
      ],
      "metadata": {
        "id": "R9waCS6JNH3d"
      },
      "execution_count": null,
      "outputs": []
    },
    {
      "cell_type": "markdown",
      "source": [
        "# Test Extractive summarization"
      ],
      "metadata": {
        "id": "qYjSRpyRgBrD"
      }
    },
    {
      "cell_type": "code",
      "source": [
        "from sklearn.feature_extraction.text import TfidfVectorizer\n",
        "from sklearn.metrics.pairwise import cosine_similarity\n",
        "import numpy as np\n",
        "\n",
        "# แยกข้อความเป็นประโยค\n",
        "sentences = long_text.split(\". \")\n",
        "\n",
        "# ใช้ TF-IDF เพื่อวิเคราะห์ความสำคัญของประโยค\n",
        "vectorizer = TfidfVectorizer()\n",
        "tfidf_matrix = vectorizer.fit_transform(sentences)\n",
        "\n",
        "# คำนวณความคล้ายคลึง (Cosine Similarity)\n",
        "scores = tfidf_matrix.sum(axis=1)\n",
        "scores = np.array(scores).flatten()\n",
        "\n",
        "# จัดอันดับประโยค\n",
        "ranked_sentences = [sentences[i] for i in scores.argsort()[::-1]]\n",
        "\n",
        "# แสดงผลสรุป (เลือก 2 ประโยคสำคัญ)\n",
        "summary = \". \".join(ranked_sentences[:2])\n",
        "print(\"Summary:\", summary)\n"
      ],
      "metadata": {
        "colab": {
          "base_uri": "https://localhost:8080/"
        },
        "id": "Q_MrSL03NpFF",
        "outputId": "b636424b-5913-4b18-d26f-dd064e1e06d1"
      },
      "execution_count": null,
      "outputs": [
        {
          "output_type": "stream",
          "name": "stdout",
          "text": [
            "Summary: From Ethiopia, coffee could have been introduced to Yemen via trade across the Red Sea.\n",
            "[14] One account credits Muhammad Ibn Sa'd for bringing the beverage to Aden from the African coast,[15] other early accounts say Ali ben Omar of the Shadhili Sufi order was the first to introduce coffee to Arabia.\n",
            "[15][16] 16th-century Islamic scholar Ibn Hajar al-Haytami notes in his writings that a beverage called qahwa developed from a tree in the Zeila region located in the Horn of Africa.\n",
            "[13] Coffee was first exported from Ethiopia to Yemen by Somali merchants from Berbera and Zeila in modern-day Somaliland, which was procured from Harar and the Abyssinian interior. The first plants from these smuggled seeds were planted in Mysore.\n",
            "Coffee had spread to Italy by 1600 and then to the rest of Europe, Indonesia, and the Americas.[19]In 1583, Leonhard Rauwolf, a German physician, gave this description of coffee after returning from a ten-year trip\n",
            "to the Near East: A beverage as black as ink, useful against numerous illnesses, particularly those of the stomach\n"
          ]
        }
      ]
    },
    {
      "cell_type": "code",
      "source": [
        "import networkx as nx\n",
        "from sklearn.feature_extraction.text import TfidfVectorizer\n",
        "from sklearn.metrics.pairwise import cosine_similarity\n",
        "\n",
        "# ข้อความต้นฉบับ\n",
        "text = \"\"\"\n",
        "Coffee originated in Yemen in the 15th century. It was used by Sufi circles for religious rituals.\n",
        "From Yemen, coffee spread to the Middle East, Europe, and eventually the Americas.\n",
        "Today, coffee is one of the most popular beverages in the world.\n",
        "\"\"\"\n",
        "\n",
        "# แยกข้อความเป็นประโยค\n",
        "sentences = text.split(\". \")\n",
        "\n",
        "# คำนวณ TF-IDF\n",
        "vectorizer = TfidfVectorizer()\n",
        "tfidf_matrix = vectorizer.fit_transform(sentences)\n",
        "\n",
        "# สร้างกราฟด้วย Cosine Similarity\n",
        "similarity_matrix = cosine_similarity(tfidf_matrix)\n",
        "nx_graph = nx.from_numpy_array(similarity_matrix)\n",
        "\n",
        "# ใช้ PageRank เพื่อจัดอันดับ\n",
        "scores = nx.pagerank(nx_graph)\n",
        "ranked_sentences = sorted(((scores[i], s) for i, s in enumerate(sentences)), reverse=True)\n",
        "\n",
        "# แสดงผลสรุป (เลือก 2 ประโยคสำคัญ)\n",
        "summary = \". \".join([ranked_sentences[i][1] for i in range(2)])\n",
        "print(\"Summary:\", summary)\n"
      ],
      "metadata": {
        "id": "TB7sOZkjO_AQ"
      },
      "execution_count": null,
      "outputs": []
    },
    {
      "cell_type": "code",
      "source": [
        "from sklearn.ensemble import RandomForestClassifier\n",
        "from sklearn.feature_extraction.text import CountVectorizer\n",
        "import numpy as np\n",
        "\n",
        "# ข้อความต้นฉบับและ Labels (1 = ประโยคสำคัญ, 0 = ไม่สำคัญ)\n",
        "sentences = [\n",
        "    \"Coffee originated in Yemen in the 15th century.\",\n",
        "    \"It was used by Sufi circles for religious rituals.\",\n",
        "    \"From Yemen, coffee spread to the Middle East, Europe, and eventually the Americas.\",\n",
        "    \"Today, coffee is one of the most popular beverages in the world.\"\n",
        "]\n",
        "labels = [1, 0, 1, 0]  # กำหนด labels ด้วยมือสำหรับตัวอย่างนี้\n",
        "\n",
        "# เปลี่ยนข้อความเป็นเวกเตอร์\n",
        "vectorizer = CountVectorizer()\n",
        "X = vectorizer.fit_transform(sentences)\n",
        "\n",
        "# ฝึกโมเดล\n",
        "clf = RandomForestClassifier()\n",
        "clf.fit(X, labels)\n",
        "\n",
        "# ทำนายความสำคัญของประโยค\n",
        "predictions = clf.predict(X)\n",
        "\n",
        "# เลือกประโยคสำคัญ\n",
        "summary = \". \".join([sentences[i] for i in range(len(predictions)) if predictions[i] == 1])\n",
        "print(\"Summary:\", summary)\n"
      ],
      "metadata": {
        "id": "nGFKBkpTPAgb"
      },
      "execution_count": null,
      "outputs": []
    },
    {
      "cell_type": "code",
      "source": [
        "scores"
      ],
      "metadata": {
        "colab": {
          "base_uri": "https://localhost:8080/"
        },
        "id": "a0F-v2v5OXFi",
        "outputId": "c582f647-4f3e-4304-c954-5e385af3e57d"
      },
      "execution_count": null,
      "outputs": [
        {
          "output_type": "execute_result",
          "data": {
            "text/plain": [
              "array([5.6369092 , 4.95706802, 8.39824451, 5.6095672 , 5.82396022,\n",
              "       5.08447651, 7.04961844, 4.36432911, 3.30868744, 4.32544122,\n",
              "       3.00470479, 4.7102547 , 3.03467019])"
            ]
          },
          "metadata": {},
          "execution_count": 10
        }
      ]
    },
    {
      "cell_type": "code",
      "source": [
        "sentences"
      ],
      "metadata": {
        "colab": {
          "base_uri": "https://localhost:8080/"
        },
        "id": "LpFxc5mQOiby",
        "outputId": "8c6f6c67-d967-4ea6-fa2b-ed14b098de3f"
      },
      "execution_count": null,
      "outputs": [
        {
          "output_type": "execute_result",
          "data": {
            "text/plain": [
              "[' The earliest credible evidence of coffee drinking or knowledge of the coffee tree appears in the middle of the 15th century in the accounts of Ahmed al-Ghaffar in Yemen,\\n[3] where coffee seeds were first roasted and brewed in a similar way to how it is prepared now',\n",
              " 'Coffee was used by Sufi circles to stay awake for their religious rituals.\\n[13] Accounts differ on the origin of the coffee plant before its appearance in Yemen',\n",
              " \"From Ethiopia, coffee could have been introduced to Yemen via trade across the Red Sea.\\n[14] One account credits Muhammad Ibn Sa'd for bringing the beverage to Aden from the African coast,[15] other early accounts say Ali ben Omar of the Shadhili Sufi order was the first to introduce coffee to Arabia.\\n[15][16] 16th-century Islamic scholar Ibn Hajar al-Haytami notes in his writings that a beverage called qahwa developed from a tree in the Zeila region located in the Horn of Africa.\\n[13] Coffee was first exported from Ethiopia to Yemen by Somali merchants from Berbera and Zeila in modern-day Somaliland, which was procured from Harar and the Abyssinian interior\",\n",
              " 'According to Captain Haines,\\nwho was the colonial administrator of Aden (1839–1854), Mokha historically imported up to two-thirds of its coffee from Berbera-based merchants before the coffee trade of Mokha was captured by\\nBritish-controlled Aden in the 19th century',\n",
              " 'After that, much of the Ethiopian coffee was exported to Aden via Berbera.[17] By the 16th century, coffee had reached the rest of the Middle East and North Africa.\\n[18] The first coffee seeds were smuggled out of the Middle East by Sufi Baba Budan from Yemen to India during the time',\n",
              " 'Before then, all exported coffee was boiled or otherwise sterilized.\\nPortraits of Baba Budan depict him as having smuggled seven coffee seeds by strapping them to his chest',\n",
              " 'The first plants from these smuggled seeds were planted in Mysore.\\nCoffee had spread to Italy by 1600 and then to the rest of Europe, Indonesia, and the Americas.[19]In 1583, Leonhard Rauwolf, a German physician, gave this description of coffee after returning from a ten-year trip\\nto the Near East: A beverage as black as ink, useful against numerous illnesses, particularly those of the stomach',\n",
              " 'Its consumers take it in the morning, quite frankly, in a porcelain cup passed around and from which\\neach one drinks a cupful',\n",
              " 'It is composed of water and the fruit from a bush called bunnu',\n",
              " '—\\u200aLéonard Rauwolf, Reise in die Morgenländer (in German)Thriving trade brought many goods, including coffee,\\nfrom the Ottoman Empire to Venice',\n",
              " 'From there it was introduced to the rest of Europe',\n",
              " 'Coffee became more widely accepted after it was deemed a Christian beverage by Pope Clement VIII in 1600,\\ndespite appeals to ban the ‘Muslim drink’',\n",
              " 'The first European coffee house opened in Venice in 1647.[20]\\n']"
            ]
          },
          "metadata": {},
          "execution_count": 13
        }
      ]
    },
    {
      "cell_type": "code",
      "source": [
        "ranked_sentences"
      ],
      "metadata": {
        "colab": {
          "base_uri": "https://localhost:8080/"
        },
        "id": "eoN7DST9OIIR",
        "outputId": "ea05a7de-54ea-4ab7-ad3d-15954ac9033d"
      },
      "execution_count": null,
      "outputs": [
        {
          "output_type": "execute_result",
          "data": {
            "text/plain": [
              "[\"From Ethiopia, coffee could have been introduced to Yemen via trade across the Red Sea.\\n[14] One account credits Muhammad Ibn Sa'd for bringing the beverage to Aden from the African coast,[15] other early accounts say Ali ben Omar of the Shadhili Sufi order was the first to introduce coffee to Arabia.\\n[15][16] 16th-century Islamic scholar Ibn Hajar al-Haytami notes in his writings that a beverage called qahwa developed from a tree in the Zeila region located in the Horn of Africa.\\n[13] Coffee was first exported from Ethiopia to Yemen by Somali merchants from Berbera and Zeila in modern-day Somaliland, which was procured from Harar and the Abyssinian interior\",\n",
              " 'The first plants from these smuggled seeds were planted in Mysore.\\nCoffee had spread to Italy by 1600 and then to the rest of Europe, Indonesia, and the Americas.[19]In 1583, Leonhard Rauwolf, a German physician, gave this description of coffee after returning from a ten-year trip\\nto the Near East: A beverage as black as ink, useful against numerous illnesses, particularly those of the stomach',\n",
              " 'After that, much of the Ethiopian coffee was exported to Aden via Berbera.[17] By the 16th century, coffee had reached the rest of the Middle East and North Africa.\\n[18] The first coffee seeds were smuggled out of the Middle East by Sufi Baba Budan from Yemen to India during the time',\n",
              " ' The earliest credible evidence of coffee drinking or knowledge of the coffee tree appears in the middle of the 15th century in the accounts of Ahmed al-Ghaffar in Yemen,\\n[3] where coffee seeds were first roasted and brewed in a similar way to how it is prepared now',\n",
              " 'According to Captain Haines,\\nwho was the colonial administrator of Aden (1839–1854), Mokha historically imported up to two-thirds of its coffee from Berbera-based merchants before the coffee trade of Mokha was captured by\\nBritish-controlled Aden in the 19th century',\n",
              " 'Before then, all exported coffee was boiled or otherwise sterilized.\\nPortraits of Baba Budan depict him as having smuggled seven coffee seeds by strapping them to his chest',\n",
              " 'Coffee was used by Sufi circles to stay awake for their religious rituals.\\n[13] Accounts differ on the origin of the coffee plant before its appearance in Yemen',\n",
              " 'Coffee became more widely accepted after it was deemed a Christian beverage by Pope Clement VIII in 1600,\\ndespite appeals to ban the ‘Muslim drink’',\n",
              " 'Its consumers take it in the morning, quite frankly, in a porcelain cup passed around and from which\\neach one drinks a cupful',\n",
              " '—\\u200aLéonard Rauwolf, Reise in die Morgenländer (in German)Thriving trade brought many goods, including coffee,\\nfrom the Ottoman Empire to Venice',\n",
              " 'It is composed of water and the fruit from a bush called bunnu',\n",
              " 'The first European coffee house opened in Venice in 1647.[20]\\n',\n",
              " 'From there it was introduced to the rest of Europe']"
            ]
          },
          "metadata": {},
          "execution_count": 6
        }
      ]
    },
    {
      "cell_type": "code",
      "source": [
        "import networkx as nx\n",
        "from sklearn.feature_extraction.text import TfidfVectorizer\n",
        "from sklearn.metrics.pairwise import cosine_similarity\n",
        "\n",
        "# ข้อความต้นฉบับ\n",
        "text = \"\"\"\n",
        "Coffee originated in Yemen in the 15th century. It was used by Sufi circles for religious rituals.\n",
        "From Yemen, coffee spread to the Middle East, Europe, and eventually the Americas.\n",
        "Today, coffee is one of the most popular beverages in the world.\n",
        "\"\"\"\n",
        "\n",
        "# แยกข้อความเป็นประโยค\n",
        "sentences = text.split(\". \")\n",
        "\n",
        "# คำนวณ TF-IDF\n",
        "vectorizer = TfidfVectorizer()\n",
        "tfidf_matrix = vectorizer.fit_transform(sentences)\n",
        "\n",
        "# สร้างกราฟด้วย Cosine Similarity\n",
        "similarity_matrix = cosine_similarity(tfidf_matrix)\n",
        "nx_graph = nx.from_numpy_array(similarity_matrix)\n",
        "\n",
        "# ใช้ PageRank เพื่อจัดอันดับ\n",
        "scores = nx.pagerank(nx_graph)\n",
        "ranked_sentences = sorted(((scores[i], s) for i, s in enumerate(sentences)), reverse=True)\n",
        "\n",
        "# เลือก 2 ประโยคสำคัญ\n",
        "selected_sentences = [ranked_sentences[i][1] for i in range(2)]\n",
        "print(\"Selected Sentences:\", selected_sentences)\n"
      ],
      "metadata": {
        "id": "jfAtsc0GP6z9"
      },
      "execution_count": null,
      "outputs": []
    },
    {
      "cell_type": "code",
      "source": [
        "from transformers import pipeline\n",
        "\n",
        "# รวมประโยคที่เลือก\n",
        "input_text = \". \".join(selected_sentences)\n",
        "\n",
        "# ใช้ T5 Summarization\n",
        "summarizer = pipeline(\"summarization\", model=\"t5-small\")\n",
        "summary = summarizer(input_text, max_length=50, min_length=10, do_sample=False)\n",
        "\n",
        "print(\"Final Summary:\", summary[0][\"summary_text\"])\n"
      ],
      "metadata": {
        "id": "jr5RXIlHP8Eg"
      },
      "execution_count": null,
      "outputs": []
    },
    {
      "cell_type": "code",
      "source": [
        "# ติดตั้งไลบรารีก่อน (ถ้ายังไม่มี)\n",
        "# pip install nltk\n",
        "\n",
        "import nltk\n",
        "from nltk.corpus import stopwords\n",
        "from nltk.tokenize import sent_tokenize, word_tokenize\n",
        "from collections import Counter\n",
        "\n",
        "# โหลดข้อมูล Stopwords (ใช้ครั้งแรกเท่านั้น)\n",
        "nltk.download('punkt')\n",
        "nltk.download('stopwords')\n",
        "\n",
        "# ข้อความตัวอย่าง (ปรับเปลี่ยนตามต้องการ)\n",
        "text = \"\"\"\n",
        "Natural Language Processing (NLP) is a field of artificial intelligence that focuses on the interaction between humans and computers using natural language. The ultimate objective of NLP is to enable computers to understand, interpret, and respond to human language in a way that is both meaningful and useful. Applications of NLP are diverse, ranging from text summarization to machine translation, sentiment analysis, and question-answering systems.\n",
        "\"\"\"\n",
        "\n",
        "# 1. แบ่งข้อความเป็นประโยค\n",
        "sentences = sent_tokenize(text)\n",
        "\n",
        "# 2. ลบ stopwords และนับความถี่ของคำ\n",
        "stop_words = set(stopwords.words('english'))\n",
        "words = word_tokenize(text.lower())\n",
        "filtered_words = [word for word in words if word.isalnum() and word not in stop_words]\n",
        "word_frequencies = Counter(filtered_words)\n",
        "\n",
        "# 3. ให้คะแนนความสำคัญของประโยค (Sentence Scoring)\n",
        "sentence_scores = {}\n",
        "for sent in sentences:\n",
        "    for word in word_tokenize(sent.lower()):\n",
        "        if word in word_frequencies:\n",
        "            if sent not in sentence_scores:\n",
        "                sentence_scores[sent] = word_frequencies[word]\n",
        "            else:\n",
        "                sentence_scores[sent] += word_frequencies[word]\n",
        "\n",
        "# 4. เลือกประโยคที่สำคัญที่สุด\n",
        "import heapq\n",
        "summary_sentences = heapq.nlargest(2, sentence_scores, key=sentence_scores.get)\n",
        "summary = ' '.join(summary_sentences)\n",
        "\n",
        "print(\"Original Text:\")\n",
        "print(text)\n",
        "print(\"\\nExtracted Summary:\")\n",
        "print(summary)\n"
      ],
      "metadata": {
        "id": "ovJcwXHCokjH"
      },
      "execution_count": null,
      "outputs": []
    }
  ]
}